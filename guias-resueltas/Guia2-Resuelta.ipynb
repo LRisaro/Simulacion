{
 "cells": [
  {
   "cell_type": "code",
   "execution_count": 1,
   "metadata": {},
   "outputs": [],
   "source": [
    "%matplotlib inline\n",
    "import matplotlib.pyplot as plt\n",
    "plt.style.use('seaborn-whitegrid')\n",
    "import numpy as np\n",
    "from scipy import stats as st\n",
    "from math import log, sqrt, exp, pi, cos, factorial"
   ]
  },
  {
   "cell_type": "markdown",
   "metadata": {},
   "source": [
    "# Guia 2 - Procesos Estocásticos\n",
    "\n",
    "Cuando una magnitud de interés S(t) **depende del tiempo t** y, a su vez, es de **naturaleza aleatoria**, tenemos un **proceso estocástico o aleatorio unidimensional(temporal)**.\n",
    "\n",
    "La variable aleatorio S(t) o S(tn) puede ser a su vez **continua** o **discreta**.\n",
    "\n",
    "Ejemplos de procesos 1D:\n",
    "\n",
    "Ej. 1: Tirar una moneda 1 vez por segundo y anotar el resultado.\n",
    "\n",
    "Ej. 2: Número de vehículos en un estacionamiento en función del tiempo. Ej. 3: Temperatura de un sensor en función del tiempo.\n",
    "\n",
    "Ej. 4: Número de disparos (spikes) de una neurona en un intervalo de tiempo\n",
    "\n",
    "Ej. 5: Número de clientes en una cola de un banco en función del tiempo.\n",
    "\n",
    "Formalmente: *un proceso estocástico es una familia de variables aleatoriasindexadas por el tiempo, espacio u otra variable.*\n",
    "\n",
    "--- \n",
    "\n",
    "### Ejercicio 1\n",
    "\n",
    "Un proceso aleatorio independiente e idénticamente distribuido (i.i.d) (independent and identically distributed) 𝑋𝑛 con 𝑛 = 1,2, ..., tiene una función de densidad marginal 𝑝(𝑥) = $𝑒^{−𝑥}$𝑢(𝑥), \n",
    "\n",
    "con $𝑢(𝑥) = 1$ si $𝑥 ≥ 0$ y $𝑢(𝑥) = 0$ si $𝑥 < 0$. ¿Cuál es la probabilidad que 𝑋1, 𝑋12 y 𝑋3 sean todas mayores que 1?"
   ]
  },
  {
   "cell_type": "code",
   "execution_count": null,
   "metadata": {},
   "outputs": [],
   "source": []
  },
  {
   "cell_type": "markdown",
   "metadata": {},
   "source": [
    "### Ejercicio 2\n",
    "\n",
    "Sea $𝑋_{n}$ con 𝑛 = 1,2, ..., un proceso aleatorio independiente e idénticamente distribuido (i.i.d), el proceso $𝑌_{n} = 𝑋_{n}^{2}$\n",
    "¿Es también i.i.d? Justifique."
   ]
  },
  {
   "cell_type": "code",
   "execution_count": null,
   "metadata": {},
   "outputs": [],
   "source": []
  },
  {
   "cell_type": "markdown",
   "metadata": {},
   "source": [
    "### Ejercicio 3\n",
    "\n",
    "Sea $𝑋_{n}$ con 𝑛 = 1,2, ..., un proceso aleatorio independiente e idénticamente distribuido (i.i.d), el proceso $𝑌_{n}$ = $𝑋_{n} 𝑋_{n-1}$ , con para 𝑛 = 2,3,... y con $𝑌_{1} = 𝑋_{1}$ ¿Es $𝑌_{n}$ también i.i.d? Justifique."
   ]
  },
  {
   "cell_type": "code",
   "execution_count": null,
   "metadata": {},
   "outputs": [],
   "source": []
  },
  {
   "cell_type": "markdown",
   "metadata": {},
   "source": [
    "# Procesos aleatorios de Poisson\n",
    "\n",
    "Función de densidad\n",
    "$P[N(t) = k] = \\frac{(\\lambda t)^k}{k!}e^{-\\lambda t}$\n",
    "\n",
    "$\\lambda = \\frac{E[N(t)]}{t}$\n",
    "\n",
    "$E[N(t = t)] = \\lambda t$\n",
    "\n",
    "$VAR[N(t)] = \\lambda t$\n",
    "\n",
    "\n",
    "Función de distribución\n",
    "$F(x) = \\left\\{\\begin{matrix}\n",
    "  0 & \\text{para }x < 0 \\\\\n",
    "  \\sum_{i=0}^{n}e^{-\\lambda} \\frac{\\lambda ^{i}}{i!} & \\text{para }x > 0\n",
    "  \\end{matrix}\\right.$\n",
    "\n",
    "El tiempo sigue una distribución **Exponencial**  $t˜Exp(\\lambda)$\n",
    "\n",
    "Función de densidad\n",
    "$P[x] = \\left\\{\\begin{matrix}\n",
    "  0 & \\text{para }x < 0 \\\\\n",
    "     \\lambda e^{-\\lambda x} & \\text{para }x \\geq 0\n",
    "  \\end{matrix}\\right.$\n",
    "\n",
    "\n",
    "Función de distribución\n",
    "$F(x) = \\left\\{\\begin{matrix}\n",
    "  0 & \\text{para }x < 0 \\\\\n",
    "      1 - e^{-\\lambda x} & \\text{para }x \\geq 0\n",
    "  \\end{matrix}\\right.$\n",
    "\n",
    "\n",
    "---\n",
    "\n",
    "### Ejercicio 4\n",
    "\n",
    "\n",
    "Encuentre la probabilidad de que sucedan 6 eventos en un proceso aleatorio de Poisson en el intervalo [7,12] si 𝜆 = 1. Luego, determine el número promedio de eventos para ese intervalo.\n",
    "\n",
    "---\n",
    "\n",
    "$\\lambda = 1$\n",
    "\n",
    "$P[N(12) - N(7) = 6] = P[N(5) = 6] = \\frac{5\\lambda}{6!}e^{-\\lambda 5}$\n",
    "\n",
    "Número promedio de eventos para t = 1: $E[N(t = 1)] = 1*1$\n",
    "\n",
    "Número promedio de eventos para ese intervalo: $E[N(t = 5)] = 1*5$\n",
    "\n",
    "\n"
   ]
  },
  {
   "cell_type": "markdown",
   "metadata": {},
   "source": [
    "### Ejercicio 5\n",
    "\n",
    "Para un proceso aleatorio de Poisson con una tasa de eventos igual a 2 por segundo, encuentre la probabilidad de obtener exactamente 2 eventos en 5 intervalos sucesivos de longitud 1 segundo cada uno.\n",
    "\n",
    "---\n",
    "\n",
    "$\\lambda = 2$\n",
    "\n",
    "$P[N(1) - N(0) = 2, N(2) - N(1) = 2, N(3) - N(2) = 2, N(4) - N(3) = 2, N(5)- N(4) = 2]  $\n",
    "\n",
    "Como todos los sucesos en los incrementos de tiempo son independiente:\n",
    "\n",
    "$P[N(1) - N(0) = 2]P[ N(2) - N(1) = 2]P[ N(3) - N(2) = 2]P[ N(4) - N(3) = 2]P[ N(5)- N(4) = 2]  $\n",
    "\n",
    "\n",
    "$P[N(1) - N(0) = 2]P[N(1) - N(0) = 2]P[N(1) - N(0) = 2]P[N(1) - N(0) = 2]P[N(1) - N(0) = 2]$\n",
    "\n",
    "$P[N(1) - N(0) = 2]^{5} = \\frac{\\lambda^{5}}{2!^{5}}e^{-5\\lambda} = \\frac{2^{5}}{2!^{5}}e^{-10}$\n"
   ]
  },
  {
   "cell_type": "markdown",
   "metadata": {},
   "source": [
    "### Ejercicio 6\n",
    "\n",
    "En un Call Center, entran llamadas telefónicas con una tasa pormedio de una llamada cada 5 segundos. ¿Cuál es la probabilidad de que se reciban más de 12 llamadas en el primer minuto?\n",
    "\n",
    "---\n",
    "Una llamada cada 5 segundos equivale a decir 12 llamadas por minuto\n",
    "\n",
    "$\\lambda = 12$\n",
    "\n",
    "$P[N(1) > 12] = 1 - P[N(1) \\leq 12] = 1 - \\sum_{i=1}^{12}e^{-\\lambda} \\frac{\\lambda ^{i}}{i!}$\n",
    "\n",
    "$P[N(1) > 12] =  1 - \\sum_{i=1}^{12}e^{-12}\\frac{12^{i}}{i!}$"
   ]
  },
  {
   "cell_type": "code",
   "execution_count": 2,
   "metadata": {},
   "outputs": [
    {
     "name": "stdout",
     "output_type": "stream",
     "text": [
      "0.4240408956392887\n"
     ]
    }
   ],
   "source": [
    "sum = 0\n",
    "for i in range(1,13):\n",
    "    sum += exp(-12)*((12)**i)/factorial(i)\n",
    "print(1 - sum)"
   ]
  },
  {
   "cell_type": "markdown",
   "metadata": {},
   "source": [
    "### Ejercicio 7\n",
    "\n",
    "Usando Octave, Matlab o Python, escribe un código que genere una realización de un processo aleatorio de Poisson. Utilice para ello, la propiedad de que el tiempo entre eventos es una variable aleatoria con distribución exponencial.\n",
    "\n",
    "---\n",
    "\n",
    " Método para generar eventos de Poisson\n",
    "1. Generar muestras de una distribución exponencial Z con parámetro $\\lambda$ :\n",
    "z1, z2, ..., zN.\n",
    "\n",
    "2. Definir tiempos de eventos conteo de Poisson\n",
    "\n",
    "$t0=0, t1=t0+z1, t2=t1+z2, t3=t2+z3, ...$\n",
    "\n",
    "$N(t0)=0, N(t1)=N(t0)+1 , N(t2)=N(t1)+1, ...$"
   ]
  },
  {
   "cell_type": "code",
   "execution_count": null,
   "metadata": {},
   "outputs": [],
   "source": []
  },
  {
   "cell_type": "markdown",
   "metadata": {},
   "source": [
    "### Ejercicio 8\n",
    "\n",
    "Utilizando el código del ejercicio 0, genere realizaciones de un proceso aleatorio de Poisson con 𝜆 = 2 y 𝜆 = 5. Utilizando los datos generados, estime empíricamente la tasa de eventos en ambos casos y calcule los errores obtenidos para distintos tamaños de muestras."
   ]
  },
  {
   "cell_type": "code",
   "execution_count": null,
   "metadata": {},
   "outputs": [],
   "source": []
  },
  {
   "cell_type": "markdown",
   "metadata": {},
   "source": [
    "### Ejercicio 9\n",
    "\n",
    "Una boca de acceso al subte contiene 3 molinetes, cada uno caracterizado por un proceso aleatorio de Poisson independiente con tasa de eventos igual a 𝜆. Determine la probabilidad de que se obtengan total de 𝑘 arrivos en el intervalo [0, 𝑇]. Ayuda: utilice la propiedad de suma de procesos de Poisson independientes.\n",
    "\n",
    "---\n",
    "\n",
    "**Suma de Procesos Poisson**\n",
    "\n",
    "La suma de k procesos Poisson es un proceso Poisson con $\\lambda = \\sum_{i=1}^{k}\\lambda_{i}$\n",
    "\n",
    "\n",
    "$P[N(T) = k] = \\frac{(3\\lambda t)^k}{k!}e^{-3\\lambda t}$\n",
    "\n"
   ]
  },
  {
   "cell_type": "markdown",
   "metadata": {},
   "source": [
    "### Ejercicio 10\n",
    "\n",
    "En una parada de taxis, un taxi arriba en promedio cada un minuto. Si una persona ya lleva esperando un taxi por 10 minutos, calcule la probabilidad de que tenga que esperar menos de un minuto adicional.\n",
    "\n",
    "---\n",
    "\n",
    "$P[t<1 |  N(10) = 0] = \\frac{P[t<1 \\cap N(10) = 0]}{P[N(10) = 0]}$\n",
    "\n",
    "Como el tiempo y los arribos son variables independientes:\n",
    "\n",
    "\n",
    "$P[t<1 |  N(10) = 0] = \\frac{P[t<1] P[N(10) = 0]}{P[N(10) = 0]}$\n",
    "\n",
    "\n",
    "$P[t<1 |  N(10) = 0] = P[t<1]$\n",
    "\n",
    "$\\lambda = 1$  1 taxi por minuto\n",
    "\n",
    "$\\lambda = 1 \\frac{taxi}{minuto} \\frac{minuto}{60 segundos} = \\frac{1}{60}$\n",
    "\n",
    "$P[t<1] = P[t \\leq 60] - P[t = 60] = F(60) - f(60)$\n",
    "\n",
    "$P[t<1] = 1 - \\frac{1}{60}e^{-\\frac{1}{60}60}- \\frac{1}{60}e^{-\\frac{1}{60}60} = 0.98$\n"
   ]
  },
  {
   "cell_type": "markdown",
   "metadata": {},
   "source": [
    "### Ejercicio 11\n",
    "\n",
    "Considere una computadora con una memoria con capacidad para almacenar $10^{6}$ palabras. Si el pedido de almacenamiento de una palabra es un proceso aleatorio de Poisson con una tasa de eventos de 1 por milisegundo, ¿Cuánto tiempo pasará en promedio hasta que la memoria se sature?\n",
    "\n",
    "---\n",
    "\n",
    "$\\lambda = 1$]\n",
    "\n",
    "$E[N(1 milisegundo)=1]$\n",
    "\n",
    "\n",
    "tiempo en promedio hasta $10^{6}$ palabras es $10^{6}$ milisegundos\n",
    "\n",
    "\n"
   ]
  },
  {
   "cell_type": "markdown",
   "metadata": {},
   "source": [
    "### Ejercicio 12\n",
    "\n",
    "Utilice Octave, Matlab o Python para generar múltiples realizaciones de un proceso aleatorio de Poisson con 𝜆 = 1. Luego, use los datos generados para estimar la probabilidad 𝑃(𝑇 < 1), siendo 𝑇 el instante de tiempo en el que\n",
    "ocurren 𝑛 eventos."
   ]
  },
  {
   "cell_type": "markdown",
   "metadata": {},
   "source": [
    "### Ejercicio 13\n",
    "\n",
    "Un servidor atiende pedidos que arriban de acuerdo con un proceso de Poisson con una tasa de 10 pedidos por minuto. ¿Determine la probabilidad de que no haya pedido desatendidos si el servidor está fuera de servicion durante 20 segundos?\n",
    "\n",
    "---\n",
    "\n",
    "\n",
    "$\\lambda = \\frac{1}{6}$\n",
    "\n",
    "$P[N(20) = 0] = \\frac{(\\frac{1}{6} 20)^0}{0!}e^{-\\frac{1}{6} 20} = 0.036$"
   ]
  },
  {
   "cell_type": "markdown",
   "metadata": {},
   "source": [
    "### Ejercicio 14\n",
    "\n",
    "En un multiplexer arriban paquetes en dos puertos de acuerdo a un proceso de Poisson con tasas 𝜆1 = 1 y 𝜆2 = 2 paquetes por segundo, respectivamente.\n",
    "1.  Encuentre la probabilidad de que un mensaje arribe primero en la línea 2.\n",
    "2. Encuentre la función de densidad de probabilidad para el tiempo necesario hasta que llegue un mensaje\n",
    "ya sea en la línea 1 o 2.\n",
    "3. Encuentre la probabilidad de que se reciban 𝑁(𝑡) mensajes en un interalo de longitud 𝑡.\n",
    "4. Generalice el resultado del punto 3 cuando se mezclan 𝑘 procesos de Poisson con tasas: 𝜆1, 𝜆2 ... , 𝜆𝑘,  respectivamente:\n",
    "                    \n",
    "                    𝑁(𝑡) = 𝑁1(𝑡)+𝑁2(𝑡)+⋯+𝑁𝑘(𝑡)\n",
    "                    \n",
    "---\n",
    "### 1.\n",
    "\n",
    "![title](ej13.png)\n",
    "\n",
    "Sea $t_1$ una variable con distribución Exponencial $\\lambda_1$\n",
    "\n",
    "Sea $t_2$ una variable con distribución Exponencial $\\lambda_2$\n",
    "\n",
    "Sea $U = mín\\{t_1, t_2\\}$\n",
    "\n",
    "$P(U = t_1) = P(t_1 ≤ t_2) = \\frac{\\lambda_1}{\\lambda_1 + \\lambda_2}$\n",
    "\n",
    "\n",
    "Por lo tanto:\n",
    "\n",
    "$P[t_2 < t_1] = 1 - P[t_1 \\leq t_2] = 1 - \\frac{\\lambda_1}{\\lambda_1 + \\lambda_2}$\n",
    "\n",
    "### 2.\n",
    "\n",
    "![title](ej13_2.png)\n",
    "\n",
    "\n",
    "\n",
    "Suma de exponenciales de diferentes intensidades\n",
    "\n",
    "$f_{t_1 + t_2}(z) = \\frac{\\lambda_1 \\lambda_2}{\\lambda_2 - \\lambda_1}(e^{-\\lambda_1 z} - e^{-\\lambda_2 z})$\n",
    "\n",
    "\n",
    "Con $\\lambda_1 = 1 \\quad \\lambda_2 = 2 $\n",
    "\n",
    "$f_{t_1 + t_2}(z) = 2(e^{-z} - e^{-2 z})$\n",
    "\n",
    "\n",
    "### 3.\n",
    "\n",
    "La suma de k procesos Poisson es un proceso Poisson con $\\lambda = \\sum_{i=1}^{k}\\lambda_{i}$\n",
    "\n",
    "En nuestro caso $\\lambda = 1 + 2 = 3$\n",
    "\n",
    "\n",
    "$P[N(T) = k] = \\frac{(3 t)^k}{k!}e^{-3 t}$\n",
    "\n",
    "\n",
    "\n",
    "### 4.\n",
    "\n",
    "La suma de k procesos Poisson es un proceso Poisson con $\\lambda = \\sum_{i=1}^{k}\\lambda_{i}$\n",
    "\n",
    "Para k procesos Poisson : $\\lambda = \\sum_{i=1}^{k}\\lambda_{i}$\n",
    "\n",
    "$P[N(T) = n] = \\frac{(\\lambda t)^n}{n!}e^{-\\lambda t}$\n",
    "\n",
    "\n",
    "\n"
   ]
  },
  {
   "cell_type": "markdown",
   "metadata": {},
   "source": [
    "### Ejercicio 15\n",
    "\n",
    "Suponga que el tiempo requerido para atender a un cliente en un sistema de cola es 𝑇. Si los clientes arriban de acuerdo con un proceso de Poisson con una tasa 𝜆, encuentre la probabilidad de que arriben 𝑁 clientes durante el tiempo en que un cliente es atendido.\n",
    "\n",
    "Evalúe la probabilidad del punto 0 si 𝑇 es una variable exponencial con parámetro 𝛽."
   ]
  },
  {
   "cell_type": "code",
   "execution_count": null,
   "metadata": {},
   "outputs": [],
   "source": []
  }
 ],
 "metadata": {
  "kernelspec": {
   "display_name": "Python 3",
   "language": "python",
   "name": "python3"
  },
  "language_info": {
   "codemirror_mode": {
    "name": "ipython",
    "version": 3
   },
   "file_extension": ".py",
   "mimetype": "text/x-python",
   "name": "python",
   "nbconvert_exporter": "python",
   "pygments_lexer": "ipython3",
   "version": "3.6.4"
  }
 },
 "nbformat": 4,
 "nbformat_minor": 2
}
