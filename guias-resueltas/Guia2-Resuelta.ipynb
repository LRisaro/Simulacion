{
 "cells": [
  {
   "cell_type": "code",
   "execution_count": 68,
   "metadata": {},
   "outputs": [],
   "source": [
    "%matplotlib inline\n",
    "import matplotlib.pyplot as plt\n",
    "plt.style.use('seaborn-whitegrid')\n",
    "import numpy as np"
   ]
  },
  {
   "cell_type": "markdown",
   "metadata": {},
   "source": [
    "### Ejercicio 1 \n",
    "Considere el siguiente generador linear congruente\n",
    "\n",
    "𝑈𝑛+1 = (a𝑈𝑛 + c) 𝑚𝑜𝑑 m,\n",
    "\n",
    "donde 𝑎 = 1, 𝑐 = 7 y 𝑚 = 10.\n",
    "\n",
    "- a Genere la secuencia {𝑈1, 𝑈2, ... , 𝑈11} a partir de 𝑈0 = 7.\n",
    "- b Genere la secuencia {𝑈1, 𝑈2, ... , 𝑈11} a partir de 𝑈0 = 1.\n",
    "- c Explique por qué este algoritmo no es válido y proponga un cambio para mejorarlo justificando adecuadamente.\n"
   ]
  },
  {
   "cell_type": "code",
   "execution_count": 28,
   "metadata": {},
   "outputs": [
    {
     "name": "stdout",
     "output_type": "stream",
     "text": [
      "4\n",
      "1\n",
      "8\n",
      "5\n",
      "2\n",
      "9\n",
      "6\n",
      "3\n",
      "0\n",
      "7\n",
      "4\n"
     ]
    }
   ],
   "source": [
    "# Generador linear congruente\n",
    "a = 1\n",
    "c = 7\n",
    "m = 10\n",
    "Un = {}\n",
    "Un[0] = 7\n",
    "\n",
    "def U(n, a, c, m):\n",
    "    if (n in Un) :\n",
    "        return Un[n]\n",
    "    else:\n",
    "        Un[n] = (a*U(n-1, a, c, m) + c) % m\n",
    "        return Un[n]\n",
    "\n",
    "for i in range(1,12):\n",
    "    print(U(i, a, c, m))"
   ]
  },
  {
   "cell_type": "code",
   "execution_count": 29,
   "metadata": {},
   "outputs": [
    {
     "name": "stdout",
     "output_type": "stream",
     "text": [
      "8\n",
      "5\n",
      "2\n",
      "9\n",
      "6\n",
      "3\n",
      "0\n",
      "7\n",
      "4\n",
      "1\n",
      "8\n"
     ]
    }
   ],
   "source": [
    "Un = {}\n",
    "Un[0] = 1\n",
    "for i in range(1,12):\n",
    "    print(U(i, a, c, m))"
   ]
  },
  {
   "cell_type": "markdown",
   "metadata": {},
   "source": [
    "Teoría:\n",
    "\n",
    "#### Propiedades de los buenos generadores\n",
    "\n",
    "- 1 Los números deben tener una distribución correcta, por ej: uniforme y no deben estar correlacionados\n",
    "- 2 La secuencia debe tener un período suficientemente largo\n",
    "- 3 La secuencia se tiene que poder reproducir (replicar experimentos)\n",
    "\n",
    "Puntualmente para el método lineal congruente podemos asegurar que el período sea el máximo posible m (m porque es el numero que genera el resto, más numeros diferentes que m no se puede tener) si se cumple el Teorema A [Grinberger, 1961; Hull&Dobel, 1962]:\n",
    "El algoritmo Lineal Congruente tiene período m si y sólo sí:\n",
    "- i) c es relativo primo con m (no existe número k ≠ 1 que divida a ambos)\n",
    "- ii) b = a - 1 es un múltiplo de p, para cada primo p dividiendo a m.\n",
    "- iii) b es un múltiplo de 4, si m es un múltiplo de 4"
   ]
  },
  {
   "cell_type": "markdown",
   "metadata": {},
   "source": [
    "### Ejercicio 2\n",
    "El generador de números aleatorios de Excel (Microsoft) es el siguiente:\n",
    "\n",
    "𝑈𝑛+1 = (9821𝑈𝑛 + 0.211327) 𝑚𝑜𝑑 1,\n",
    "\n",
    "donde los cálculos se realizan con aritmética de punto flotante. Además, Excel genera el valor inicial 𝑈0 utilizando el reloj interno. Describa al menos, una de las mayores deficiencias de este\n",
    "método."
   ]
  },
  {
   "cell_type": "markdown",
   "metadata": {},
   "source": [
    "????????"
   ]
  },
  {
   "cell_type": "code",
   "execution_count": 30,
   "metadata": {},
   "outputs": [
    {
     "name": "stdout",
     "output_type": "stream",
     "text": [
      "0.6516012408427048\n",
      "0.5871133162036131\n",
      "0.2512054356839144\n",
      "0.2999108517233253\n",
      "0.6358017747779741\n",
      "0.42055709448322887\n",
      "0.502551919790676\n",
      "0.7737312642293546\n",
      "0.026072996491166123\n",
      "0.2742255397424742\n"
     ]
    }
   ],
   "source": [
    "a = 9821\n",
    "c = 0.211327\n",
    "m = 1\n",
    "Un = {}\n",
    "Un[0] = np.random.uniform()\n",
    "\n",
    "for i in range(0,10):\n",
    "    print(U(i, a, c, m))"
   ]
  },
  {
   "cell_type": "markdown",
   "metadata": {},
   "source": [
    "La mayor deficiencia es que es irreproducible (supongo)"
   ]
  },
  {
   "cell_type": "markdown",
   "metadata": {},
   "source": [
    "### Ejercicio 3\n",
    "\n",
    "Dado 𝑥0 = 5 y el generador\n",
    "\n",
    "𝑋𝑛+1 = (3𝑋𝑛) 𝑚𝑜𝑑 150,\n",
    "\n",
    "Encontrar la secuencia 𝑥1, 𝑥2, ... , 𝑥10."
   ]
  },
  {
   "cell_type": "code",
   "execution_count": 31,
   "metadata": {},
   "outputs": [
    {
     "name": "stdout",
     "output_type": "stream",
     "text": [
      "15\n",
      "45\n",
      "135\n",
      "105\n",
      "15\n",
      "45\n",
      "135\n",
      "105\n",
      "15\n"
     ]
    }
   ],
   "source": [
    "Un = {}\n",
    "Un[0] = 5\n",
    "a = 3\n",
    "c = 0\n",
    "m = 150\n",
    "\n",
    "\n",
    "for i in range(1,10):\n",
    "    print(U(i, a, c, m))"
   ]
  },
  {
   "cell_type": "markdown",
   "metadata": {},
   "source": [
    "### Ejercicio 4\n",
    "\n",
    "Dado  𝑥1=6,  𝑥2=4 y el generador\n",
    "\n",
    "𝑋𝑛+1 = (3𝑋𝑛 + 𝑐) 𝑚𝑜𝑑 7,\n",
    "\n",
    "determinar 𝑥51.\n",
    "\n",
    "---\n",
    "\n",
    "\n"
   ]
  },
  {
   "cell_type": "code",
   "execution_count": 50,
   "metadata": {},
   "outputs": [
    {
     "name": "stdout",
     "output_type": "stream",
     "text": [
      "2\n",
      "6\n",
      "4\n",
      "5\n",
      "1\n",
      "3\n",
      "2\n",
      "6\n",
      "4\n",
      "5\n"
     ]
    },
    {
     "data": {
      "text/plain": [
       "5"
      ]
     },
     "execution_count": 50,
     "metadata": {},
     "output_type": "execute_result"
    }
   ],
   "source": [
    "Un = {}\n",
    "Un[0] = 2\n",
    "a = 3\n",
    "c = 7  \n",
    "m = 7\n",
    "\n",
    "\n",
    "for i in range(0,10):\n",
    "    print(U(i, a, c, m))\n",
    "    \n",
    "U(51, a, c, m)"
   ]
  },
  {
   "cell_type": "markdown",
   "metadata": {},
   "source": [
    "### Ejercicio 5\n",
    "\n",
    "Determine 𝑥100 para un generador congruente multiplicativo con módulo 7, multiplicador 4, y condición inicial 𝑥0 = 1.\n",
    "\n",
    "¿Cuál es la longitud de ciclo máxima posible para un generador congruente multiplicativo con módulo 7? \n",
    "\n",
    "Dado el siguiente generador congruente multiplicativo:\n",
    "\n",
    "𝑋𝑛+1 = (7𝑋𝑛) 𝑚𝑜𝑑 13,\n",
    "\n",
    "para 𝑛 = 1,2, ... , con condición inicial 𝑥0 = 1 . ¿Cuáles de las siguientes afirmaciones esverdadera? \n",
    "\n",
    "I. La longitud de ciclo máxima posible es 12.\n",
    "\n",
    "II. Este generador es mas veloz que un generador congruente lineal con incremento no-nulo,\n",
    "usando el mismo módulo, multiplicador y condición inicial.\n",
    "\n",
    "III. 𝑥4 = 9.\n"
   ]
  },
  {
   "cell_type": "code",
   "execution_count": 51,
   "metadata": {},
   "outputs": [
    {
     "name": "stdout",
     "output_type": "stream",
     "text": [
      "1\n",
      "4\n",
      "2\n",
      "1\n",
      "4\n",
      "2\n",
      "1\n",
      "4\n",
      "2\n",
      "1\n"
     ]
    },
    {
     "data": {
      "text/plain": [
       "4"
      ]
     },
     "execution_count": 51,
     "metadata": {},
     "output_type": "execute_result"
    }
   ],
   "source": [
    "Un = {}\n",
    "Un[0] = 1\n",
    "a = 4\n",
    "c =  0 \n",
    "m = 7\n",
    "\n",
    "\n",
    "for i in range(0,10):\n",
    "    print(U(i, a, c, m))\n",
    "    \n",
    "U(100, a, c, m)"
   ]
  },
  {
   "cell_type": "code",
   "execution_count": 52,
   "metadata": {},
   "outputs": [
    {
     "name": "stdout",
     "output_type": "stream",
     "text": [
      "1\n",
      "7\n",
      "10\n",
      "5\n",
      "9\n",
      "11\n",
      "12\n",
      "6\n",
      "3\n",
      "8\n"
     ]
    },
    {
     "data": {
      "text/plain": [
       "9"
      ]
     },
     "execution_count": 52,
     "metadata": {},
     "output_type": "execute_result"
    }
   ],
   "source": [
    "Un = {}\n",
    "Un[0] = 1\n",
    "a = 7\n",
    "c =  0 \n",
    "m = 13\n",
    "\n",
    "\n",
    "for i in range(0,10):\n",
    "    print(U(i, a, c, m))\n",
    "    \n",
    "U(4, a, c, m)"
   ]
  },
  {
   "cell_type": "markdown",
   "metadata": {},
   "source": [
    "----\n",
    "\n",
    "la longitud de ciclo máxima posible para un generador congruente multiplicativo con módulo 7 es 7\n",
    "\n",
    "\n",
    "I. FALSA, ES 13\n",
    "\n",
    "II. ?\n",
    "\n",
    "III. VERDADERA\n"
   ]
  },
  {
   "cell_type": "markdown",
   "metadata": {},
   "source": [
    "### Ejercicio 6\n",
    "\n",
    "El generador de números aleatorios de Visual BASIC (Microsoft) está definido por\n",
    "\n",
    "𝑋𝑛+1 = (1,140,671 ∙ 𝑋𝑛 + 1,280,163) 𝑚𝑜𝑑 224.\n",
    "\n",
    "Si comenzamos la secuencia con un 1, ¿cuáles son los siguientes tres valores en la secuencia?\n",
    "\n",
    "Dado un generador lineal congruente con módulo 9, multiplicador 7 e incremento 4. Si 𝑥i+1 = 3, ¿cuál es el valor de 𝑥i?"
   ]
  },
  {
   "cell_type": "code",
   "execution_count": 53,
   "metadata": {},
   "outputs": [
    {
     "name": "stdout",
     "output_type": "stream",
     "text": [
      "1\n",
      "66\n",
      "129\n",
      "66\n"
     ]
    }
   ],
   "source": [
    "Un = {}\n",
    "Un[0] = 1\n",
    "a = 1140671\n",
    "c =  1280163\n",
    "m = 224\n",
    "\n",
    "\n",
    "for i in range(0,4):\n",
    "    print(U(i, a, c, m))\n",
    "    "
   ]
  },
  {
   "cell_type": "code",
   "execution_count": 61,
   "metadata": {},
   "outputs": [
    {
     "name": "stdout",
     "output_type": "stream",
     "text": [
      "3\n",
      "7\n",
      "8\n",
      "6\n",
      "1\n",
      "2\n",
      "0\n",
      "4\n",
      "5\n",
      "3\n",
      "7\n",
      "8\n",
      "6\n",
      "1\n"
     ]
    }
   ],
   "source": [
    "Un = {}\n",
    "Un[0] = 3\n",
    "a = 7\n",
    "c = 4\n",
    "m = 9\n",
    "\n",
    "\n",
    "for i in range(0,14):\n",
    "    print(U(i, a, c, m))\n",
    "    "
   ]
  },
  {
   "cell_type": "markdown",
   "metadata": {},
   "source": [
    "Vemos, cuando se repite la secuencia, que el numero anterior a Xi+1 = 3, es decir Xi es 5"
   ]
  },
  {
   "cell_type": "markdown",
   "metadata": {},
   "source": [
    "### Ejercicio 7\n",
    "\n",
    "Se desea utilizar una urna para simular una variable aleatoria con un espacio muestral 𝑆 = {1,2,3,4,5} y probabilidades 𝑝1 =1/3, 𝑝2 =1/5, 𝑝3 =1/4, 𝑝4 =1/7, 𝑝5 =1−(𝑝1 +𝑝2 +𝑝3 +𝑝4). ¿Cuántas bolas debería contener la urna y cómo deberían estar marcadas? Generalice este resultado para demostrar que una urna puede ser utilizada para simular cualquier experimento aleatorio con un espacio muestral finito y probabilidades dadas por números racionales.\n",
    "\n",
    "---\n",
    "\n",
    "𝑝5 = 1−(𝑝1 +𝑝2 +𝑝3 +𝑝4) = 31/420\n",
    "\n",
    "\n",
    "Podria tener 420 bolas de las cuales:\n",
    "\n",
    "140 con el número 1, ya que 𝑝1 = 1/3 = 140/420\n",
    "\n",
    "84 con el número 2, 𝑝2 = 1/5 = 84/420\n",
    "\n",
    "105 con el número 3, 𝑝3 = 1/4 = 105/420\n",
    "\n",
    "60 con el número 4, 𝑝4 = 1/7 = 60/420\n",
    "\n",
    "y 31 con el número 5\n"
   ]
  },
  {
   "cell_type": "markdown",
   "metadata": {},
   "source": [
    "### Ejercicio 8\n",
    "\n",
    "Supongamos que estamos interesados en utilizar una moneda para simular un experimento aleatorio en el cual hay seis posibles estados equiprobables, donde 𝑆 = {0,1,2,3,4,5}. Se propone el siguiente método que es una versión del método del rechazo:\n",
    "1. Tirar una moneda 3 veces y obtener un número binario de tres dígitos identificando los 1’s con caras y los 0’s con secas.\n",
    "2. Si el resultado del punto 1 es un número que está en 𝑆, se anota el resultado, sino se vuelve al punto 1.\n",
    "\n",
    "Encuentre la probabilidad de que un número válido sea obtenido en el punto 2. \n",
    "\n",
    "Demuestre que los números producidos en el punto 2. son equiprobables.\n",
    "\n",
    "Generalice este algoritmo para demostrar que una moneda puede ser usado para simular cualquier experimento aleatorio con urnas.\n",
    "\n",
    "---\n",
    "\n",
    "Cada lanzamiento de una moneda es independiente de los otros. Por lo tanto:\n",
    "\n",
    "POSIBLES RESULTADOS\n",
    "\n",
    "000 = 0\n",
    "\n",
    "001 = 1\n",
    "\n",
    "010 = 2\n",
    "\n",
    "011 = 3\n",
    "\n",
    "100 = 4\n",
    "\n",
    "101 = 5\n",
    "\n",
    "110 = 6\n",
    "\n",
    "111 = 7\n",
    "\n",
    "\n",
    "P(SECA, SECA, SECA) = (1/2)ˆ3\n",
    "\n",
    "P(SECA, SECA, CARA) = (1/2)ˆ3\n",
    "\n",
    "...\n",
    "\n",
    "P(CARA, CARA, CARA) = (1/2)ˆ3\n",
    "\n",
    "Esto demuestra que los números obtenidos en el punto 1 son equiprobables.\n",
    "\n",
    "La probabilidad de que se encuentre un número válido es 6/8, de los 8 casos equiprobables solo 2 son inválidos.\n",
    "\n",
    " \n",
    "La generalizacion creo que apunta a que puedo simular cualquier experimento de X urnas con una moneda, solo que la cantidad de lanzamientos dependerá de X.\n",
    "\n",
    "X <= 2^(cantidad de lanzamientos)\n"
   ]
  },
  {
   "cell_type": "markdown",
   "metadata": {},
   "source": [
    "### Ejercicio 9\n",
    "\n",
    "Utilice la función rand() de Octave/Matlab o su equivalente en Python para generar 1000 pares de números en [0,1]. Grafique un scatter-plot para confirmar que los puntos obtenidos están uniformemente distribuidos sobre un cuadrado de lado unitario."
   ]
  },
  {
   "cell_type": "code",
   "execution_count": 87,
   "metadata": {},
   "outputs": [],
   "source": [
    "randomNumsX = list()\n",
    "randomNumsY = list()\n",
    "for i in range(0, 1000):\n",
    "    randomNumsX.append(np.random.uniform())\n",
    "    randomNumsY.append(np.random.uniform())    "
   ]
  },
  {
   "cell_type": "code",
   "execution_count": 89,
   "metadata": {},
   "outputs": [
    {
     "data": {
      "image/png": "[encoded data removed]",
      "text/plain": [
       "<matplotlib.figure.Figure at 0x11651c7b8>"
      ]
     },
     "metadata": {},
     "output_type": "display_data"
    }
   ],
   "source": [
    "plt.plot(randomNumsX, randomNumsY, 'o');"
   ]
  },
  {
   "cell_type": "markdown",
   "metadata": {},
   "source": [
    "### Ejercicio 10\n",
    "\n",
    "Proponga un algoritmo e impleméntelo en Octave/Matlab o Python que genere una variable aleatoria con la siguiente función de densidad:\n",
    "\n",
    "𝑓x (𝑥)=30(𝑥ˆ2 −2𝑥ˆ3 +𝑥ˆ4)   con   0<𝑥<1.\n",
    "\n",
    "Verifique que es una función de densidad de probabilidad válida."
   ]
  },
  {
   "cell_type": "code",
   "execution_count": null,
   "metadata": {},
   "outputs": [],
   "source": []
  }
 ],
 "metadata": {
  "kernelspec": {
   "display_name": "Python 3",
   "language": "python",
   "name": "python3"
  },
  "language_info": {
   "codemirror_mode": {
    "name": "ipython",
    "version": 3
   },
   "file_extension": ".py",
   "mimetype": "text/x-python",
   "name": "python",
   "nbconvert_exporter": "python",
   "pygments_lexer": "ipython3",
   "version": "3.6.4"
  }
 },
 "nbformat": 4,
 "nbformat_minor": 2
}
