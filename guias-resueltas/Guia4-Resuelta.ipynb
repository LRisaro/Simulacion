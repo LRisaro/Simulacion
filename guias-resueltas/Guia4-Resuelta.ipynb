{
 "cells": [
  {
   "cell_type": "code",
   "execution_count": 29,
   "metadata": {},
   "outputs": [],
   "source": [
    "%matplotlib inline\n",
    "import matplotlib.pyplot as plt\n",
    "plt.style.use('seaborn-whitegrid')\n",
    "import numpy as np\n",
    "from scipy import stats as st\n",
    "from math import log, sqrt, exp, pi, cos, factorial"
   ]
  },
  {
   "cell_type": "markdown",
   "metadata": {},
   "source": [
    "### Ejercicio 6\n",
    "\n",
    "Dado el sistema de crecimiento exponencial definido por\n",
    "\n",
    "$x_t = ax_{t-1}$\n",
    "\n",
    "realice simulaciones en Octave/Matlab o Python generando series temporales para distintos valores del parámetro $a$ y con condición inicial $x_0 = 1$. Describa el comportamiento y cómo influye el valor del parámetro en el resultado"
   ]
  },
  {
   "cell_type": "markdown",
   "metadata": {},
   "source": [
    "### Ejercicio 7\n",
    "\n",
    "Dado el sistema de dos variables definido por \n",
    "\n",
    "$x_t = ax_{t-1}+by_{t-1}$\n",
    "$y_t = cx_{t-1}+dy_{t-1}$\n",
    "\n",
    "\n",
    "\n",
    "realice  simulaciones  en  Octave/Matlab  o  Python  generando  series  temporales  para distintos  valores  de  los parámetros $a,b,c,d$ y con condición inicial $(x_0,y_0) = (1,1)$. Muestre los resultados en forma de trayectorias en el \n",
    "espacio   de   fases $(x,y)$.   Describa   los   distintos   comportamientos   que pueden   ser   obtenidos   y   justifique teóricamente"
   ]
  },
  {
   "cell_type": "code",
   "execution_count": 30,
   "metadata": {},
   "outputs": [
    {
     "data": {
      "text/plain": [
       "<matplotlib.collections.PathCollection at 0x7fe01e9accf8>"
      ]
     },
     "execution_count": 30,
     "metadata": {},
     "output_type": "execute_result"
    },
    {
     "data": {
      "image/png": "[encoded data removed]",
      "text/plain": [
       "<Figure size 432x288 with 1 Axes>"
      ]
     },
     "metadata": {},
     "output_type": "display_data"
    }
   ],
   "source": [
    "seedX = 1\n",
    "seedY = 1\n",
    "a = 0.5\n",
    "b = a\n",
    "c = 1\n",
    "d = 1\n",
    "numsX, numsY = list(), list()\n",
    "for i in range(100000):\n",
    "    seedX = a*seedX - b*seedY\n",
    "    seedY = seedX + seedY\n",
    "    numsX.append(seedX)\n",
    "    numsY.append(seedY)\n",
    "    \n",
    "plt.scatter(numsX, numsY)"
   ]
  },
  {
   "cell_type": "markdown",
   "metadata": {},
   "source": [
    "### Ejercicio 8 \n",
    "\n",
    "Simule en Octave/Matlab o Python el comportamiento de la siguiente serie de Fibonacci:\n",
    "\n",
    "$x_t = x_{t-1}+x_{t-2} \\quad x_0 = 1, x_1 = 1$\n",
    "\n",
    "Nota: Convertir primero a un sistema de ecuaciones de diferencias de \n",
    "primer orden con dos variables\n",
    "\n",
    "\n",
    "$y_t=x_{t-1}$\n",
    "\n",
    "$x_t = x_{t-1}+y_{t-1} \\quad x_0 = 1, x_1 = 1$\n"
   ]
  },
  {
   "cell_type": "code",
   "execution_count": 33,
   "metadata": {},
   "outputs": [],
   "source": [
    "x = {}\n",
    "x[0] = 1\n",
    "x[1] = 1\n",
    "y = {}\n",
    "y[1] = 1\n",
    "\n",
    "for i in range(2,1000):\n",
    "    y[i] = x[i-1]\n",
    "    x[i] = x[i-1] + y[i-1]"
   ]
  },
  {
   "cell_type": "code",
   "execution_count": 34,
   "metadata": {},
   "outputs": [
    {
     "data": {
      "text/plain": [
       "<matplotlib.collections.PathCollection at 0x7fe01c4e6c18>"
      ]
     },
     "execution_count": 34,
     "metadata": {},
     "output_type": "execute_result"
    },
    {
     "data": {
      "image/png": "[encoded data removed]",
      "text/plain": [
       "<Figure size 432x288 with 1 Axes>"
      ]
     },
     "metadata": {},
     "output_type": "display_data"
    }
   ],
   "source": [
    "    \n",
    "plt.scatter(list(x.values())[1:],list( y.values()))"
   ]
  },
  {
   "cell_type": "code",
   "execution_count": null,
   "metadata": {},
   "outputs": [],
   "source": []
  },
  {
   "cell_type": "code",
   "execution_count": null,
   "metadata": {},
   "outputs": [],
   "source": []
  },
  {
   "cell_type": "code",
   "execution_count": null,
   "metadata": {},
   "outputs": [],
   "source": []
  },
  {
   "cell_type": "code",
   "execution_count": null,
   "metadata": {},
   "outputs": [],
   "source": []
  },
  {
   "cell_type": "code",
   "execution_count": null,
   "metadata": {},
   "outputs": [],
   "source": []
  },
  {
   "cell_type": "code",
   "execution_count": null,
   "metadata": {},
   "outputs": [],
   "source": []
  },
  {
   "cell_type": "code",
   "execution_count": null,
   "metadata": {},
   "outputs": [],
   "source": []
  },
  {
   "cell_type": "code",
   "execution_count": null,
   "metadata": {},
   "outputs": [],
   "source": []
  },
  {
   "cell_type": "code",
   "execution_count": null,
   "metadata": {},
   "outputs": [],
   "source": []
  }
 ],
 "metadata": {
  "kernelspec": {
   "display_name": "Python 3",
   "language": "python",
   "name": "python3"
  },
  "language_info": {
   "codemirror_mode": {
    "name": "ipython",
    "version": 3
   },
   "file_extension": ".py",
   "mimetype": "text/x-python",
   "name": "python",
   "nbconvert_exporter": "python",
   "pygments_lexer": "ipython3",
   "version": "3.6.6"
  }
 },
 "nbformat": 4,
 "nbformat_minor": 2
}
