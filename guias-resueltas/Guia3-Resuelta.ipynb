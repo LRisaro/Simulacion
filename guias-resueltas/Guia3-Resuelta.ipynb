{
 "cells": [
  {
   "cell_type": "code",
   "execution_count": 1,
   "metadata": {},
   "outputs": [],
   "source": [
    "%matplotlib inline\n",
    "import matplotlib.pyplot as plt\n",
    "plt.style.use('seaborn-whitegrid')\n",
    "import numpy as np\n",
    "from scipy import stats as st\n",
    "from math import log, sqrt, exp, pi, cos, factorial"
   ]
  },
  {
   "cell_type": "markdown",
   "metadata": {},
   "source": [
    "# Guía 3 - Cadenas de Markov\n",
    "\n",
    "\n",
    "![title](markov.png)\n",
    "\n"
   ]
  },
  {
   "cell_type": "markdown",
   "metadata": {},
   "source": [
    "### Ejercicio 1\n",
    "\n",
    "Dada una cadena de Markov con estados “A” y “B” o, equivalentemente 0 y 1. Si las probabilidades condicionales son𝑃[𝐴|𝐵]=0.1y𝑃[𝐵|𝐴]=0,4, dibuje el diagrama de estados y encuentre la matriz de transiciones de probabilidad."
   ]
  },
  {
   "cell_type": "markdown",
   "metadata": {},
   "source": [
    "### Ejercicio 2\n",
    "\n",
    "En algunos sistemas de comunicaciones es importante determinar el porcentaje de tiempo en el que una persona está hablando. A partir de mediciones se encuentra que, si una persona está hablando en un dado intervalo de tiempo, entonces estará hablando en el siguiente intervalo de tiempo con probabilidad 0.75. Si no está hablando en un intervalo, entonces estará hablando en el intervalo siguiente con probabilidad 0.5. Dibuje el diagrama de estados usando los estados “hablando” y “no hablando”."
   ]
  },
  {
   "cell_type": "markdown",
   "metadata": {},
   "source": [
    "### Ejercicio 3\n",
    "\n",
    "Para la siguiente matriz de transición de probabilidades dibuje el correspondiente diagrama de estados:\n",
    "  \n",
    "$ P =\\begin{pmatrix}\n",
    "\\frac{1}{2} & \\frac{1}{4} & \\frac{1}{4} \\\\\n",
    "\\frac{1}{3} & \\frac{1}{3} & \\frac{1}{3} \\\\\n",
    "\\frac{2}{3} & \\frac{1}{6} & \\frac{1}{6}\n",
    "\\end{pmatrix}$  \n",
    "  "
   ]
  },
  {
   "cell_type": "markdown",
   "metadata": {},
   "source": [
    "### Ejercicio 4\n",
    "\n",
    "Una máquina de una línea de producción se puede encontrar en alguno de los siguientes estados: \n",
    "\n",
    "$𝑆_1$ = 𝑇𝑟𝑎𝑏𝑎𝑗𝑎𝑛𝑑𝑜 o $𝑆_2$ = 𝑅𝑜𝑡𝑎\n",
    "\n",
    "\n",
    "La empresa cuenta con un sistema de control que verifica el funcionamiento de la máquina cada 1 minuto.\n",
    "\n",
    "Si en un control la máquina se encuentra en estado “Trabajando” la probabilidad que en el siguiente control esté en estado “Rota” es $P_{12} = 0.05$\n",
    "\n",
    "Si la máquina se encuentra operativa la probabilidad que continúe en el mismo estado en la siguiente verificación es $P_{11} : 0.95$\n",
    "\n",
    "Si se verifica que la máquina está en estado “Rota” la probabilidad que en la siguiente verificación este en estado “Trabajando” es: $P_{21}= 0.1$\n",
    "\n",
    "Y si la máquina se encuentra en estado “Rota” la probabilidad que continúe en el mismo estado en la próxima verificación es: $P_{22}=0.6$\n",
    "\n",
    "1. Determine la matriz de cambio de estado.\n",
    "2. Determine la cantidad de tiempo que la máquina no se encuentra trabajando.\n",
    "3. Determine la probabilidad que la máquina se encuentre operativa luego de 2 verificaciones.\n",
    "4. Encuentre la cantidad media de verificaciones que existen entre dos roturas consecutivas.\n",
    "5. Utilizando Matlab, Octave o Python simule 20 verificaciones realizadas por el sistema de control,\n",
    "mostrando en un gráfico el estado en el que se encuentra la máquina en cada verificación."
   ]
  },
  {
   "cell_type": "code",
   "execution_count": null,
   "metadata": {},
   "outputs": [],
   "source": []
  }
 ],
 "metadata": {
  "kernelspec": {
   "display_name": "Python 3",
   "language": "python",
   "name": "python3"
  },
  "language_info": {
   "codemirror_mode": {
    "name": "ipython",
    "version": 3
   },
   "file_extension": ".py",
   "mimetype": "text/x-python",
   "name": "python",
   "nbconvert_exporter": "python",
   "pygments_lexer": "ipython3",
   "version": "3.6.4"
  }
 },
 "nbformat": 4,
 "nbformat_minor": 2
}
