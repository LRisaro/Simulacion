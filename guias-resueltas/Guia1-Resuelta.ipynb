{
 "cells": [
  {
   "cell_type": "code",
   "execution_count": 142,
   "metadata": {},
   "outputs": [],
   "source": [
    "%matplotlib inline\n",
    "import matplotlib.pyplot as plt\n",
    "plt.style.use('seaborn-whitegrid')\n",
    "import numpy as np\n",
    "from scipy import stats as st\n",
    "from math import log, sqrt, exp, pi, cos, factorial"
   ]
  },
  {
   "cell_type": "markdown",
   "metadata": {},
   "source": [
    "### Ejercicio 1 \n",
    "Considere el siguiente generador linear congruente\n",
    "\n",
    "𝑈𝑛+1 = (a𝑈𝑛 + c) 𝑚𝑜𝑑 m,\n",
    "\n",
    "donde 𝑎 = 1, 𝑐 = 7 y 𝑚 = 10.\n",
    "\n",
    "- a Genere la secuencia {𝑈1, 𝑈2, ... , 𝑈11} a partir de 𝑈0 = 7.\n",
    "- b Genere la secuencia {𝑈1, 𝑈2, ... , 𝑈11} a partir de 𝑈0 = 1.\n",
    "- c Explique por qué este algoritmo no es válido y proponga un cambio para mejorarlo justificando adecuadamente.\n"
   ]
  },
  {
   "cell_type": "code",
   "execution_count": 143,
   "metadata": {},
   "outputs": [
    {
     "name": "stdout",
     "output_type": "stream",
     "text": [
      "4\n",
      "1\n",
      "8\n",
      "5\n",
      "2\n",
      "9\n",
      "6\n",
      "3\n",
      "0\n",
      "7\n",
      "4\n"
     ]
    }
   ],
   "source": [
    "# Generador linear congruente\n",
    "a = 1\n",
    "c = 7\n",
    "m = 10\n",
    "Un = {}\n",
    "Un[0] = 7\n",
    "\n",
    "def U(n, a, c, m):\n",
    "    if (n in Un) :\n",
    "        return Un[n]\n",
    "    else:\n",
    "        Un[n] = (a*U(n-1, a, c, m) + c) % m\n",
    "        return Un[n]\n",
    "\n",
    "for i in range(1,12):\n",
    "    print(U(i, a, c, m))"
   ]
  },
  {
   "cell_type": "code",
   "execution_count": 144,
   "metadata": {},
   "outputs": [
    {
     "name": "stdout",
     "output_type": "stream",
     "text": [
      "8\n",
      "5\n",
      "2\n",
      "9\n",
      "6\n",
      "3\n",
      "0\n",
      "7\n",
      "4\n",
      "1\n",
      "8\n"
     ]
    }
   ],
   "source": [
    "Un = {}\n",
    "Un[0] = 1\n",
    "for i in range(1,12):\n",
    "    print(U(i, a, c, m))"
   ]
  },
  {
   "cell_type": "markdown",
   "metadata": {},
   "source": [
    "Teoría:\n",
    "\n",
    "#### Propiedades de los buenos generadores\n",
    "\n",
    "- 1 Los números deben tener una distribución correcta, por ej: uniforme y no deben estar correlacionados\n",
    "- 2 La secuencia debe tener un período suficientemente largo\n",
    "- 3 La secuencia se tiene que poder reproducir (replicar experimentos)\n",
    "\n",
    "Puntualmente para el método lineal congruente podemos asegurar que el período sea el máximo posible m (m porque es el numero que genera el resto, más numeros diferentes que m no se puede tener) si se cumple el Teorema A [Grinberger, 1961; Hull&Dobel, 1962]:\n",
    "El algoritmo Lineal Congruente tiene período m si y sólo sí:\n",
    "- i) c es relativo primo con m (no existe número k ≠ 1 que divida a ambos)\n",
    "- ii) b = a - 1 es un múltiplo de p, para cada primo p dividiendo a m.\n",
    "- iii) b es un múltiplo de 4, si m es un múltiplo de 4"
   ]
  },
  {
   "cell_type": "markdown",
   "metadata": {},
   "source": [
    "### Ejercicio 2\n",
    "El generador de números aleatorios de Excel (Microsoft) es el siguiente:\n",
    "\n",
    "𝑈𝑛+1 = (9821𝑈𝑛 + 0.211327) 𝑚𝑜𝑑 1,\n",
    "\n",
    "donde los cálculos se realizan con aritmética de punto flotante. Además, Excel genera el valor inicial 𝑈0 utilizando el reloj interno. Describa al menos, una de las mayores deficiencias de este\n",
    "método."
   ]
  },
  {
   "cell_type": "markdown",
   "metadata": {},
   "source": [
    "????????"
   ]
  },
  {
   "cell_type": "code",
   "execution_count": 145,
   "metadata": {},
   "outputs": [
    {
     "name": "stdout",
     "output_type": "stream",
     "text": [
      "0.46235659260991047\n",
      "0.015423021930473624\n",
      "0.6808253791814707\n",
      "0.5973759412236177\n",
      "0.040445757149427664\n",
      "0.4291079645290665\n",
      "0.48064663996228774\n",
      "0.6419780696278394\n",
      "0.077948815011041\n",
      "0.7466392234337036\n"
     ]
    }
   ],
   "source": [
    "a = 9821\n",
    "c = 0.211327\n",
    "m = 1\n",
    "Un = {}\n",
    "Un[0] = np.random.uniform()\n",
    "\n",
    "for i in range(0,10):\n",
    "    print(U(i, a, c, m))"
   ]
  },
  {
   "cell_type": "markdown",
   "metadata": {},
   "source": [
    "La mayor deficiencia es que es irreproducible (supongo)"
   ]
  },
  {
   "cell_type": "markdown",
   "metadata": {},
   "source": [
    "### Ejercicio 3\n",
    "\n",
    "Dado 𝑥0 = 5 y el generador\n",
    "\n",
    "𝑋𝑛+1 = (3𝑋𝑛) 𝑚𝑜𝑑 150,\n",
    "\n",
    "Encontrar la secuencia 𝑥1, 𝑥2, ... , 𝑥10."
   ]
  },
  {
   "cell_type": "code",
   "execution_count": 146,
   "metadata": {},
   "outputs": [
    {
     "name": "stdout",
     "output_type": "stream",
     "text": [
      "15\n",
      "45\n",
      "135\n",
      "105\n",
      "15\n",
      "45\n",
      "135\n",
      "105\n",
      "15\n"
     ]
    }
   ],
   "source": [
    "Un = {}\n",
    "Un[0] = 5\n",
    "a = 3\n",
    "c = 0\n",
    "m = 150\n",
    "\n",
    "\n",
    "for i in range(1,10):\n",
    "    print(U(i, a, c, m))"
   ]
  },
  {
   "cell_type": "markdown",
   "metadata": {},
   "source": [
    "### Ejercicio 4\n",
    "\n",
    "Dado  𝑥1=6,  𝑥2=4 y el generador\n",
    "\n",
    "𝑋𝑛+1 = (3𝑋𝑛 + 𝑐) 𝑚𝑜𝑑 7,\n",
    "\n",
    "determinar 𝑥51.\n",
    "\n",
    "---\n",
    "\n",
    "\n"
   ]
  },
  {
   "cell_type": "code",
   "execution_count": 147,
   "metadata": {},
   "outputs": [
    {
     "name": "stdout",
     "output_type": "stream",
     "text": [
      "2\n",
      "6\n",
      "4\n",
      "5\n",
      "1\n",
      "3\n",
      "2\n",
      "6\n",
      "4\n",
      "5\n"
     ]
    },
    {
     "data": {
      "text/plain": [
       "5"
      ]
     },
     "execution_count": 147,
     "metadata": {},
     "output_type": "execute_result"
    }
   ],
   "source": [
    "Un = {}\n",
    "Un[0] = 2\n",
    "a = 3\n",
    "c = 7  \n",
    "m = 7\n",
    "\n",
    "\n",
    "for i in range(0,10):\n",
    "    print(U(i, a, c, m))\n",
    "    \n",
    "U(51, a, c, m)"
   ]
  },
  {
   "cell_type": "markdown",
   "metadata": {},
   "source": [
    "### Ejercicio 5\n",
    "\n",
    "Determine 𝑥100 para un generador congruente multiplicativo con módulo 7, multiplicador 4, y condición inicial 𝑥0 = 1.\n",
    "\n",
    "¿Cuál es la longitud de ciclo máxima posible para un generador congruente multiplicativo con módulo 7? \n",
    "\n",
    "Dado el siguiente generador congruente multiplicativo:\n",
    "\n",
    "𝑋𝑛+1 = (7𝑋𝑛) 𝑚𝑜𝑑 13,\n",
    "\n",
    "para 𝑛 = 1,2, ... , con condición inicial 𝑥0 = 1 . ¿Cuáles de las siguientes afirmaciones esverdadera? \n",
    "\n",
    "I. La longitud de ciclo máxima posible es 12.\n",
    "\n",
    "II. Este generador es mas veloz que un generador congruente lineal con incremento no-nulo,\n",
    "usando el mismo módulo, multiplicador y condición inicial.\n",
    "\n",
    "III. 𝑥4 = 9.\n"
   ]
  },
  {
   "cell_type": "code",
   "execution_count": 148,
   "metadata": {},
   "outputs": [
    {
     "name": "stdout",
     "output_type": "stream",
     "text": [
      "1\n",
      "4\n",
      "2\n",
      "1\n",
      "4\n",
      "2\n",
      "1\n",
      "4\n",
      "2\n",
      "1\n"
     ]
    },
    {
     "data": {
      "text/plain": [
       "4"
      ]
     },
     "execution_count": 148,
     "metadata": {},
     "output_type": "execute_result"
    }
   ],
   "source": [
    "Un = {}\n",
    "Un[0] = 1\n",
    "a = 4\n",
    "c =  0 \n",
    "m = 7\n",
    "\n",
    "\n",
    "for i in range(0,10):\n",
    "    print(U(i, a, c, m))\n",
    "    \n",
    "U(100, a, c, m)"
   ]
  },
  {
   "cell_type": "code",
   "execution_count": 149,
   "metadata": {},
   "outputs": [
    {
     "name": "stdout",
     "output_type": "stream",
     "text": [
      "1\n",
      "7\n",
      "10\n",
      "5\n",
      "9\n",
      "11\n",
      "12\n",
      "6\n",
      "3\n",
      "8\n"
     ]
    },
    {
     "data": {
      "text/plain": [
       "9"
      ]
     },
     "execution_count": 149,
     "metadata": {},
     "output_type": "execute_result"
    }
   ],
   "source": [
    "Un = {}\n",
    "Un[0] = 1\n",
    "a = 7\n",
    "c =  0 \n",
    "m = 13\n",
    "\n",
    "\n",
    "for i in range(0,10):\n",
    "    print(U(i, a, c, m))\n",
    "    \n",
    "U(4, a, c, m)"
   ]
  },
  {
   "cell_type": "markdown",
   "metadata": {},
   "source": [
    "----\n",
    "\n",
    "la longitud de ciclo máxima posible para un generador congruente multiplicativo con módulo 7 es 7\n",
    "\n",
    "\n",
    "I. FALSA, ES 13\n",
    "\n",
    "II. ?\n",
    "\n",
    "III. VERDADERA\n"
   ]
  },
  {
   "cell_type": "markdown",
   "metadata": {},
   "source": [
    "### Ejercicio 6\n",
    "\n",
    "El generador de números aleatorios de Visual BASIC (Microsoft) está definido por\n",
    "\n",
    "𝑋𝑛+1 = (1,140,671 ∙ 𝑋𝑛 + 1,280,163) 𝑚𝑜𝑑 224.\n",
    "\n",
    "Si comenzamos la secuencia con un 1, ¿cuáles son los siguientes tres valores en la secuencia?\n",
    "\n",
    "Dado un generador lineal congruente con módulo 9, multiplicador 7 e incremento 4. Si 𝑥i+1 = 3, ¿cuál es el valor de 𝑥i?"
   ]
  },
  {
   "cell_type": "code",
   "execution_count": 150,
   "metadata": {},
   "outputs": [
    {
     "name": "stdout",
     "output_type": "stream",
     "text": [
      "1\n",
      "66\n",
      "129\n",
      "66\n"
     ]
    }
   ],
   "source": [
    "Un = {}\n",
    "Un[0] = 1\n",
    "a = 1140671\n",
    "c =  1280163\n",
    "m = 224\n",
    "\n",
    "\n",
    "for i in range(0,4):\n",
    "    print(U(i, a, c, m))\n",
    "    "
   ]
  },
  {
   "cell_type": "code",
   "execution_count": 151,
   "metadata": {},
   "outputs": [
    {
     "name": "stdout",
     "output_type": "stream",
     "text": [
      "3\n",
      "7\n",
      "8\n",
      "6\n",
      "1\n",
      "2\n",
      "0\n",
      "4\n",
      "5\n",
      "3\n",
      "7\n",
      "8\n",
      "6\n",
      "1\n"
     ]
    }
   ],
   "source": [
    "Un = {}\n",
    "Un[0] = 3\n",
    "a = 7\n",
    "c = 4\n",
    "m = 9\n",
    "\n",
    "\n",
    "for i in range(0,14):\n",
    "    print(U(i, a, c, m))\n",
    "    "
   ]
  },
  {
   "cell_type": "markdown",
   "metadata": {},
   "source": [
    "Vemos, cuando se repite la secuencia, que el numero anterior a Xi+1 = 3, es decir Xi es 5"
   ]
  },
  {
   "cell_type": "markdown",
   "metadata": {},
   "source": [
    "### Ejercicio 7\n",
    "\n",
    "Se desea utilizar una urna para simular una variable aleatoria con un espacio muestral 𝑆 = {1,2,3,4,5} y probabilidades 𝑝1 =1/3, 𝑝2 =1/5, 𝑝3 =1/4, 𝑝4 =1/7, 𝑝5 =1−(𝑝1 +𝑝2 +𝑝3 +𝑝4). ¿Cuántas bolas debería contener la urna y cómo deberían estar marcadas? Generalice este resultado para demostrar que una urna puede ser utilizada para simular cualquier experimento aleatorio con un espacio muestral finito y probabilidades dadas por números racionales.\n",
    "\n",
    "---\n",
    "\n",
    "𝑝5 = 1−(𝑝1 +𝑝2 +𝑝3 +𝑝4) = 31/420\n",
    "\n",
    "\n",
    "Podria tener 420 bolas de las cuales:\n",
    "\n",
    "140 con el número 1, ya que 𝑝1 = 1/3 = 140/420\n",
    "\n",
    "84 con el número 2, 𝑝2 = 1/5 = 84/420\n",
    "\n",
    "105 con el número 3, 𝑝3 = 1/4 = 105/420\n",
    "\n",
    "60 con el número 4, 𝑝4 = 1/7 = 60/420\n",
    "\n",
    "y 31 con el número 5\n"
   ]
  },
  {
   "cell_type": "markdown",
   "metadata": {},
   "source": [
    "### Ejercicio 8\n",
    "\n",
    "Supongamos que estamos interesados en utilizar una moneda para simular un experimento aleatorio en el cual hay seis posibles estados equiprobables, donde 𝑆 = {0,1,2,3,4,5}. Se propone el siguiente método que es una versión del método del rechazo:\n",
    "1. Tirar una moneda 3 veces y obtener un número binario de tres dígitos identificando los 1’s con caras y los 0’s con secas.\n",
    "2. Si el resultado del punto 1 es un número que está en 𝑆, se anota el resultado, sino se vuelve al punto 1.\n",
    "\n",
    "Encuentre la probabilidad de que un número válido sea obtenido en el punto 2. \n",
    "\n",
    "Demuestre que los números producidos en el punto 2. son equiprobables.\n",
    "\n",
    "Generalice este algoritmo para demostrar que una moneda puede ser usado para simular cualquier experimento aleatorio con urnas.\n",
    "\n",
    "---\n",
    "\n",
    "Cada lanzamiento de una moneda es independiente de los otros. Por lo tanto:\n",
    "\n",
    "POSIBLES RESULTADOS\n",
    "\n",
    "000 = 0\n",
    "\n",
    "001 = 1\n",
    "\n",
    "010 = 2\n",
    "\n",
    "011 = 3\n",
    "\n",
    "100 = 4\n",
    "\n",
    "101 = 5\n",
    "\n",
    "110 = 6\n",
    "\n",
    "111 = 7\n",
    "\n",
    "\n",
    "P(SECA, SECA, SECA) = (1/2)ˆ3\n",
    "\n",
    "P(SECA, SECA, CARA) = (1/2)ˆ3\n",
    "\n",
    "...\n",
    "\n",
    "P(CARA, CARA, CARA) = (1/2)ˆ3\n",
    "\n",
    "Esto demuestra que los números obtenidos en el punto 1 son equiprobables.\n",
    "\n",
    "La probabilidad de que se encuentre un número válido es 6/8, de los 8 casos equiprobables solo 2 son inválidos.\n",
    "\n",
    " \n",
    "La generalizacion creo que apunta a que puedo simular cualquier experimento de X urnas con una moneda, solo que la cantidad de lanzamientos dependerá de X.\n",
    "\n",
    "X <= 2^(cantidad de lanzamientos)\n"
   ]
  },
  {
   "cell_type": "markdown",
   "metadata": {},
   "source": [
    "### Ejercicio 9\n",
    "\n",
    "Utilice la función rand() de Octave/Matlab o su equivalente en Python para generar 1000 pares de números en [0,1]. Grafique un scatter-plot para confirmar que los puntos obtenidos están uniformemente distribuidos sobre un cuadrado de lado unitario."
   ]
  },
  {
   "cell_type": "code",
   "execution_count": 152,
   "metadata": {},
   "outputs": [],
   "source": [
    "randomNumsX = list()\n",
    "randomNumsY = list()\n",
    "for i in range(0, 1000):\n",
    "    randomNumsX.append(np.random.uniform())\n",
    "    randomNumsY.append(np.random.uniform())    "
   ]
  },
  {
   "cell_type": "code",
   "execution_count": 153,
   "metadata": {},
   "outputs": [
    {
     "data": {
      "image/png": "[encoded data removed]",
      "text/plain": [
       "<matplotlib.figure.Figure at 0x11825de80>"
      ]
     },
     "metadata": {},
     "output_type": "display_data"
    }
   ],
   "source": [
    "plt.plot(randomNumsX, randomNumsY, 'o');"
   ]
  },
  {
   "cell_type": "markdown",
   "metadata": {},
   "source": [
    "### Ejercicio 10\n",
    "\n",
    "Proponga un algoritmo e impleméntelo en Octave/Matlab o Python que genere una variable aleatoria con la siguiente función de densidad:\n",
    "\n",
    "𝑓x (𝑥)=30(𝑥ˆ2 −2𝑥ˆ3 +𝑥ˆ4)   con   0<𝑥<1.\n",
    "\n",
    "Verifique que es una función de densidad de probabilidad válida."
   ]
  },
  {
   "cell_type": "code",
   "execution_count": null,
   "metadata": {},
   "outputs": [],
   "source": []
  },
  {
   "cell_type": "markdown",
   "metadata": {},
   "source": [
    "### Ejercicio 11\n",
    "\n",
    "Proponga un algoritmo e impleméntelo en Octave/Matlab o Python que genere una variable aleatoria con la siguiente función de densidad:\n",
    "$𝑓 (𝑥)=\\frac{5}{4}𝑡ˆ{−2}\\quad con\\quad1<𝑥<5.$\n",
    "\n",
    "Verifique que es una función de densidad de probabilidad válida."
   ]
  },
  {
   "cell_type": "code",
   "execution_count": null,
   "metadata": {},
   "outputs": [],
   "source": []
  },
  {
   "cell_type": "markdown",
   "metadata": {},
   "source": [
    "### Ejercicio 12\n",
    "\n",
    "Proponga un método del rechazo para generar puntos que estén unifórmenme distribuidos en la región 𝑦 > 𝑥 de un cuadrado de lado unitario. Confirme el correcto funcionamiento visualizando los resultados."
   ]
  },
  {
   "cell_type": "code",
   "execution_count": 154,
   "metadata": {},
   "outputs": [
    {
     "data": {
      "image/png": "[encoded data removed]",
      "text/plain": [
       "<matplotlib.figure.Figure at 0x1a1b947278>"
      ]
     },
     "metadata": {},
     "output_type": "display_data"
    }
   ],
   "source": [
    "randomNumsX = list()\n",
    "randomNumsY = list()\n",
    "for i in range(0, 10000):\n",
    "    x = np.random.uniform()\n",
    "    y = np.random.uniform()\n",
    "    if(y > x):\n",
    "        randomNumsX.append(x)\n",
    "        randomNumsY.append(y) \n",
    "        \n",
    "plt.plot(randomNumsX, randomNumsY, 'o');"
   ]
  },
  {
   "cell_type": "code",
   "execution_count": null,
   "metadata": {},
   "outputs": [],
   "source": []
  },
  {
   "cell_type": "code",
   "execution_count": null,
   "metadata": {},
   "outputs": [],
   "source": []
  },
  {
   "cell_type": "code",
   "execution_count": null,
   "metadata": {},
   "outputs": [],
   "source": []
  },
  {
   "cell_type": "markdown",
   "metadata": {},
   "source": [
    "### Ejercicio 14\n",
    "\n",
    "La variable aleatoria 𝑋 tiene la función de densidad de probabilidad de la figura abajo.\n",
    "\n",
    "![title](ej14.png)\n",
    "Encuentre la transformación necesaria que, aplicada a una variable 𝑈 uniformemente distribuida en [0,1], permita generar 𝑋.\n",
    "\n",
    "Use Octave/Matlab o Python para generar 𝑁 muestras de 𝑋. Compare la función teórica de densidad de probabilidad con un histograma de valores obtenidos para dicha variable. Utilice 𝑁 = 100, 1000, 10000.\n",
    "\n",
    "---\n",
    "\n",
    "La funcion de densidad de probabilidad es:\n",
    "\n",
    "$f(x) = \\left\\{ \\begin{array}{lcc}\n",
    "             \\frac{c}{a}x+c &   si  & -a < x < 0 \\\\\n",
    "             \\\\ 0 &  si & x \\leq -a & a \\leq x \\\\\n",
    "             \\\\ \\frac{-c}{a}x+c &  si  & 0 < x < a\n",
    "             \\end{array}\n",
    "   \\right.$"
   ]
  },
  {
   "cell_type": "code",
   "execution_count": 155,
   "metadata": {},
   "outputs": [],
   "source": [
    "a = 1\n",
    "c = 1\n",
    "nums = list()\n",
    "\n",
    "def F(x):\n",
    "    if (x < 0 and x > -a):\n",
    "        return c/a*x + c\n",
    "    if (x > 0 and x< a):\n",
    "        return -c/a*x + c\n",
    "    return 0\n",
    "\n",
    "for i in range(100000):\n",
    "    X = np.random.uniform(-a, a)\n",
    "    Y = np.random.uniform(0, c)\n",
    "    if(Y <= F(X)):\n",
    "        nums.append(X)\n",
    "    "
   ]
  },
  {
   "cell_type": "code",
   "execution_count": 156,
   "metadata": {},
   "outputs": [
    {
     "data": {
      "image/png": "[encoded data removed]",
      "text/plain": [
       "<matplotlib.figure.Figure at 0x1a1b84f710>"
      ]
     },
     "metadata": {},
     "output_type": "display_data"
    }
   ],
   "source": [
    "plt.hist(nums, bins=200)\n",
    "plt.show()"
   ]
  },
  {
   "cell_type": "markdown",
   "metadata": {},
   "source": [
    "### Ejercicio 16\n",
    "\n",
    "El siguiente método de rechazo puede ser utilizado para generar variables aleatorias Gaussianas:\n",
    "1. Generar 𝑈1, variable aleatoria uniformemente distribuida en el intervalo unitario.\n",
    "2. Definir𝑋1 = −ln𝑈1.\n",
    "3. Generar 𝑈2, variable aleatoria uniformemente distribuida en el intervalo unitario. Si 𝑈2 ≤exp(−(𝑋1 − 1)2/2), aceptar 𝑋1, sino, rechazar 𝑋1 y volver al punto 1.\n",
    "4. Generar un signo aleatorio 𝑆 (+1 o -1) con igual probabilidad. Definir 𝑋 = 𝑆 ∗ 𝑋1.\n",
    "    a. Demostrar que si 𝑋1 es aceptada, entonces su función de densidad de probabilidad es la del valor absoluto de una variable aleatoria Gaussiana con media cero y varianza unitaria.\n",
    "    b. Demuestre que 𝑋 es una variable aleatoria Gaussiana con media cero y varianza unitaria.\n"
   ]
  },
  {
   "cell_type": "code",
   "execution_count": 157,
   "metadata": {},
   "outputs": [],
   "source": [
    "nums = list()\n",
    "for i in range(100000):\n",
    "    U1 = np.random.uniform(0, 1)\n",
    "    X1 = -log(U1)\n",
    "    U2 = np.random.uniform(0, 1)\n",
    "    if (U2 <= exp(-((X1-1)**2)/2)):\n",
    "        if(np.random.uniform() <= 0.5):\n",
    "            nums.append(-X1)\n",
    "        else:\n",
    "            nums.append(X1)"
   ]
  },
  {
   "cell_type": "code",
   "execution_count": 158,
   "metadata": {},
   "outputs": [
    {
     "data": {
      "image/png": "[encoded data removed]",
      "text/plain": [
       "<matplotlib.figure.Figure at 0x1a1bb7ee80>"
      ]
     },
     "metadata": {},
     "output_type": "display_data"
    }
   ],
   "source": [
    "plt.hist(nums, bins=200)\n",
    "plt.show()"
   ]
  },
  {
   "cell_type": "code",
   "execution_count": 159,
   "metadata": {},
   "outputs": [
    {
     "name": "stdout",
     "output_type": "stream",
     "text": [
      "Varianza = 1.0014495687775427\n",
      "Media = 0.0036227234087503083\n"
     ]
    }
   ],
   "source": [
    "print('Varianza = ' + str(np.var(nums)))\n",
    "print('Media = ' + str(np.median(nums)))"
   ]
  },
  {
   "cell_type": "markdown",
   "metadata": {},
   "source": [
    "### Ejercicio 17\n",
    "\n",
    "2- Dos métodos posibles para generar variables aleatorias binomiales son:\n",
    "1. Generar 𝑛 Bernoulli variables aleatorias y sumar los resultados, y\n",
    "2. Dividir el intervalo unitario de acuerdo con las probabilidades de la distribución binomial.\n",
    "\n",
    "Compare los métodos bajo las siguientes condiciones:\n",
    "\n",
    "a.𝑝 = 0.5, 𝑛 = 5,25,50;\n",
    "\n",
    "b. 𝑝 = 0.1, 𝑛 = 5,25,50;\n",
    "\n",
    "c. Use Octave/Matlab o Python para implementar ambos métodos generando 1000\n",
    "muestras binomialmente distribuidas. Compare ambos métodos."
   ]
  },
  {
   "cell_type": "code",
   "execution_count": 160,
   "metadata": {},
   "outputs": [],
   "source": [
    "# METODO 1\n",
    "#Binomial p-> probabilidad de exito,  n-> cantidad de ensayos\n",
    "#k -> cantidad de exitos en n ensayos\n",
    "\n",
    "def bernoulli(p):\n",
    "    if(np.random.uniform()< p):\n",
    "        return 1\n",
    "    return 0\n",
    "\n",
    "def binomial(n,p):\n",
    "    k = 0\n",
    "    for i in range(n):\n",
    "        k += bernoulli(p)\n",
    "    return k\n",
    "\n",
    "def generarAleaoriasBinomialM1(n,p,muestras):\n",
    "    variablesAleatorias = list()\n",
    "    for i in range(muestras):\n",
    "        variablesAleatorias.append(binomial(n, p))\n",
    "    return variablesAleatorias"
   ]
  },
  {
   "cell_type": "code",
   "execution_count": 161,
   "metadata": {},
   "outputs": [
    {
     "data": {
      "image/png": "[encoded data removed]",
      "text/plain": [
       "<matplotlib.figure.Figure at 0x1a1bd27b38>"
      ]
     },
     "metadata": {},
     "output_type": "display_data"
    }
   ],
   "source": [
    "plt.hist(generarAleaoriasBinomialM1(5, 0.5, 100000), bins=5)\n",
    "plt.show()"
   ]
  },
  {
   "cell_type": "code",
   "execution_count": 162,
   "metadata": {},
   "outputs": [
    {
     "data": {
      "image/png": "[encoded data removed]",
      "text/plain": [
       "<matplotlib.figure.Figure at 0x1182639b0>"
      ]
     },
     "metadata": {},
     "output_type": "display_data"
    }
   ],
   "source": [
    "plt.hist(generarAleaoriasBinomialM1(25, 0.5, 100000), bins=25)\n",
    "plt.show()"
   ]
  },
  {
   "cell_type": "code",
   "execution_count": 163,
   "metadata": {},
   "outputs": [
    {
     "data": {
      "image/png": "[encoded data removed]",
      "text/plain": [
       "<matplotlib.figure.Figure at 0x1a1ae19908>"
      ]
     },
     "metadata": {},
     "output_type": "display_data"
    }
   ],
   "source": [
    "plt.hist(generarAleaoriasBinomialM1(50, 0.5, 100000), bins=50)\n",
    "plt.show()"
   ]
  },
  {
   "cell_type": "code",
   "execution_count": 164,
   "metadata": {},
   "outputs": [
    {
     "data": {
      "image/png": "[encoded data removed]",
      "text/plain": [
       "<matplotlib.figure.Figure at 0x1a1bd06eb8>"
      ]
     },
     "metadata": {},
     "output_type": "display_data"
    }
   ],
   "source": [
    "plt.hist(generarAleaoriasBinomialM1(5, 0.1, 100000), bins=5)\n",
    "plt.show()"
   ]
  },
  {
   "cell_type": "code",
   "execution_count": 165,
   "metadata": {},
   "outputs": [
    {
     "data": {
      "image/png": "[encoded data removed]",
      "text/plain": [
       "<matplotlib.figure.Figure at 0x1a1b756c18>"
      ]
     },
     "metadata": {},
     "output_type": "display_data"
    }
   ],
   "source": [
    "plt.hist(generarAleaoriasBinomialM1(25, 0.1, 100000), bins=25)\n",
    "plt.show()"
   ]
  },
  {
   "cell_type": "code",
   "execution_count": 166,
   "metadata": {},
   "outputs": [
    {
     "data": {
      "image/png": "[encoded data removed]",
      "text/plain": [
       "<matplotlib.figure.Figure at 0x1a1a087e80>"
      ]
     },
     "metadata": {},
     "output_type": "display_data"
    }
   ],
   "source": [
    "plt.hist(generarAleaoriasBinomialM1(50, 0.1, 100000), bins=50)\n",
    "plt.show()"
   ]
  },
  {
   "cell_type": "code",
   "execution_count": 167,
   "metadata": {},
   "outputs": [
    {
     "name": "stdout",
     "output_type": "stream",
     "text": [
      "{-1: (0, 0), 0: (0, 0.03125), 1: (0.03125, 0.1875), 2: (0.1875, 0.5), 3: (0.5, 0.8125), 4: (0.8125, 0.96875), 5: (0.96875, 1.0)}\n"
     ]
    }
   ],
   "source": [
    "# METODO 2: Dividir el intervalo unitario de acuerdo con las probabilidades de la distribución binomial.\n",
    "#Binomial p-> probabilidad de exito,  n-> cantidad de ensayos\n",
    "#k -> cantidad de exitos en n ensayos\n",
    "\n",
    "\n",
    "def nCr(n,k):\n",
    "    f = factorial\n",
    "    return f(n) / f(k) / f(n-k)\n",
    "    \n",
    "\n",
    "def prob(n,p,k):\n",
    "    return nCr(n,k)*(p**k)*((1-p)**(n-k))\n",
    "      \n",
    "def intervalos(n,p):\n",
    "    d = {-1: (0,0)}\n",
    "    sd = 0\n",
    "    for i in range(0,n+1):\n",
    "        d[i] = (d[i-1][1],d[i-1][1] + prob(n,p,i))\n",
    "    return d\n",
    "print(intervalos(5,0.5))\n",
    "\n",
    "def getKforU(d,u):\n",
    "    for i in d:\n",
    "        if u > d[i][0] and u < d[i][1]:\n",
    "            return i\n",
    "\n",
    "def generarAleaoriasBinomialM2(n,p,muestras):\n",
    "    d = intervalos(n,p)\n",
    "    variablesAleatorias = list()\n",
    "    for i in range(muestras):\n",
    "        u = np.random.uniform()\n",
    "        variablesAleatorias.append(getKforU(d,u))\n",
    "    return variablesAleatorias"
   ]
  },
  {
   "cell_type": "code",
   "execution_count": 168,
   "metadata": {},
   "outputs": [
    {
     "data": {
      "image/png": "[encoded data removed]",
      "text/plain": [
       "<matplotlib.figure.Figure at 0x1a1aa55cf8>"
      ]
     },
     "metadata": {},
     "output_type": "display_data"
    }
   ],
   "source": [
    "plt.hist(generarAleaoriasBinomialM2(5, 0.5, 100000), bins=5)\n",
    "plt.show()"
   ]
  },
  {
   "cell_type": "code",
   "execution_count": 169,
   "metadata": {},
   "outputs": [
    {
     "data": {
      "image/png": "[encoded data removed]",
      "text/plain": [
       "<matplotlib.figure.Figure at 0x1a1ac2df60>"
      ]
     },
     "metadata": {},
     "output_type": "display_data"
    }
   ],
   "source": [
    "plt.hist(generarAleaoriasBinomialM2(25, 0.5, 100000), bins=25)\n",
    "plt.show()"
   ]
  },
  {
   "cell_type": "code",
   "execution_count": 170,
   "metadata": {},
   "outputs": [
    {
     "data": {
      "image/png": "[encoded data removed]",
      "text/plain": [
       "<matplotlib.figure.Figure at 0x1187294e0>"
      ]
     },
     "metadata": {},
     "output_type": "display_data"
    }
   ],
   "source": [
    "plt.hist(generarAleaoriasBinomialM2(50, 0.5, 100000), bins=50)\n",
    "plt.show()"
   ]
  },
  {
   "cell_type": "code",
   "execution_count": 171,
   "metadata": {},
   "outputs": [
    {
     "data": {
      "image/png": "[encoded data removed]",
      "text/plain": [
       "<matplotlib.figure.Figure at 0x1186d5080>"
      ]
     },
     "metadata": {},
     "output_type": "display_data"
    }
   ],
   "source": [
    "plt.hist(generarAleaoriasBinomialM2(5, 0.1, 100000), bins=5)\n",
    "plt.show()"
   ]
  },
  {
   "cell_type": "code",
   "execution_count": 172,
   "metadata": {},
   "outputs": [
    {
     "data": {
      "image/png": "[encoded data removed]",
      "text/plain": [
       "<matplotlib.figure.Figure at 0x11924a4e0>"
      ]
     },
     "metadata": {},
     "output_type": "display_data"
    }
   ],
   "source": [
    "plt.hist(generarAleaoriasBinomialM2(25, 0.1, 100000), bins=25)\n",
    "plt.show()"
   ]
  },
  {
   "cell_type": "code",
   "execution_count": 173,
   "metadata": {},
   "outputs": [
    {
     "data": {
      "image/png": "[encoded data removed]",
      "text/plain": [
       "<matplotlib.figure.Figure at 0x1a1b6d25c0>"
      ]
     },
     "metadata": {},
     "output_type": "display_data"
    }
   ],
   "source": [
    "plt.hist(generarAleaoriasBinomialM2(50, 0.1, 100000), bins=50)\n",
    "plt.show()"
   ]
  },
  {
   "cell_type": "markdown",
   "metadata": {},
   "source": [
    "---\n",
    "El **Test Estadístico $Chi^{2}$** se aplica cuando tenemos una muestra de una **variable aleatoria discreta finita** y queremos evaluar si responde a una determinada distribución de probabilidad teórica.\n",
    "\n",
    "Primero se debe medir la dispersión de las ocurrencias observadas $N_{i}$ respecto de las esperadas ( $np_{i}$ ):\n",
    "\n",
    "<h3 align=\"center\">$\n",
    "D^{2} = \\sum_{k=0}^{K}\\frac {(N_{i} - np_{i})^{2}}{np_{i}}\n",
    "$</h3> \n",
    "\n",
    "**Pearson** (1900) demostró que $D^{2}$ responde a una distribución de tipo $Chi^{2}$, por lo tanto, encontramos $\\textbf{t}$ tal que  $P(D^{2} > t) = \\alpha$  y aceptamos la hipótesis siempre que $D^{2} < t$.\n",
    "\n",
    "---\n",
    "### Ejercicio 18\n",
    "\n",
    "\n",
    "Se obtuvo el siguiente histograma contando los números que aparecen como primer dígito en una guía telefónica:\n",
    "\n",
    "\n",
    "digit|observed\n",
    "-- | --\n",
    "0 | 0\n",
    "1 | 0\n",
    "2 | 24\n",
    "3|2\n",
    "4|25\n",
    "5|3\n",
    "6|32\n",
    "7|15\n",
    "8|2\n",
    "9|2\n",
    "\n",
    "\n",
    "Aplique un test de Chi2 con una distribución uniforme para los dígitos {0,1,2,3,4,5,6,7,8,9} usando un nivel de significancia del 1%. \n",
    "\n",
    "Repita el test para los dígitos {2,3,4,5,6,7,8,9}.\n",
    "\n"
   ]
  },
  {
   "cell_type": "code",
   "execution_count": 188,
   "metadata": {},
   "outputs": [
    {
     "name": "stdout",
     "output_type": "stream",
     "text": [
      "10\n",
      "18.333333333333332\n"
     ]
    }
   ],
   "source": [
    "def calcularD2(n,p,ocurrencias):\n",
    "    d2 = 0\n",
    "    for i in range(0,k):\n",
    "        d2 += ((ocurrencias[i] - (n*p))**2)/(n*p)\n",
    "    return d2\n",
    "\n",
    "valores, ocurrencias = np.unique([0,1,2,3,4,5,6,7,8,9], [0,0,24,2,25,3,32,15,2,2])\n",
    "n = sum(ocurrencias)\n",
    "k = len(valores) #CANTIDAD DE VALORES DIFERENTES \n",
    "p = 1/k #Probabilidad esperada para cada valor\n",
    "print(k)\n",
    "print(calcularD2(n,p,ocurrencias))"
   ]
  },
  {
   "cell_type": "markdown",
   "metadata": {},
   "source": [
    "Para un nivel de significación del 0.01 y k-1 = 9 grados de libertad t = 21,7\n",
    "\n",
    "Como $D^{2} < t$, entonces **aceptamos la hipótesis** diciendo que los datos responden a una distribución uniforme, considerando un error del $1\\%$\n",
    "\n",
    "---\n",
    "![Tabla Chi2](../chi2.png)\n",
    "\n",
    "\n"
   ]
  },
  {
   "cell_type": "code",
   "execution_count": 192,
   "metadata": {},
   "outputs": [
    {
     "name": "stdout",
     "output_type": "stream",
     "text": [
      "8\n",
      "12.0\n"
     ]
    }
   ],
   "source": [
    "valores, ocurrencias = np.unique([2,3,4,5,6,7,8,9], [24,2,25,3,32,15,2,2])\n",
    "n = sum(ocurrencias)\n",
    "k = len(valores) #CANTIDAD DE VALORES DIFERENTES \n",
    "p = 1/k #Probabilidad esperada para cada valor\n",
    "print(k)\n",
    "\n",
    "print(calcularD2(n,p,ocurrencias))"
   ]
  },
  {
   "cell_type": "markdown",
   "metadata": {},
   "source": [
    "Para un nivel de significación del 0.01 y k-1 = 7 grados de libertad t = 18.5\n",
    "\n",
    "Como $D^{2} < t$, entonces **aceptamos la hipótesis** diciendo que los datos responden a una distribución uniforme, considerando un error del $1\\%$\n",
    "\n"
   ]
  },
  {
   "cell_type": "markdown",
   "metadata": {},
   "source": [
    "### Ejercicio 19\n",
    "\n",
    "Se tira un dado 96 veces y se anota el número de veces obtenido cada dígito dando como resultado la siguiente tabla:\n",
    "\n",
    "$k$|$n_{k}$\n",
    "-- | --\n",
    "1 | 25\n",
    "2 | 8\n",
    "3|17\n",
    "4|20\n",
    "5|13\n",
    "6|13\n",
    "\n",
    "Aplique un test de Chi2 para el caso equiprobable con un nivel de significancia del 5%.\n",
    "\n",
    "---\n",
    "\n",
    "Queremos ver si el experimento respeta una distribucion Uniforme"
   ]
  },
  {
   "cell_type": "code",
   "execution_count": 193,
   "metadata": {},
   "outputs": [
    {
     "name": "stdout",
     "output_type": "stream",
     "text": [
      "6\n",
      "7.0\n"
     ]
    }
   ],
   "source": [
    "valores, ocurrencias = np.unique([1,2,3,4,5,6], [25,8,17,20,13,13])\n",
    "n = sum(ocurrencias)\n",
    "k = len(valores) #CANTIDAD DE VALORES DIFERENTES \n",
    "p = 1/k #Probabilidad esperada para cada valor\n",
    "\n",
    "print(k)\n",
    "print(calcularD2(n,p,ocurrencias))"
   ]
  },
  {
   "cell_type": "markdown",
   "metadata": {},
   "source": [
    "Para un nivel de significación del 0.05 y k-1 = 5 grados de libertad t = 11.07\n",
    "\n",
    "Como $D^{2} < t$, entonces **aceptamos la hipótesis** diciendo que los datos responden a una distribución uniforme, considerando un error del $5\\%$\n",
    "\n",
    "\n"
   ]
  },
  {
   "cell_type": "markdown",
   "metadata": {},
   "source": [
    "### Ejercicio 20\n",
    "\n",
    "Utilizando Octave/Matlab o Python, realice el siguiente experimento 100 veces: genere 50 variables aleatorias independientes e idénticamente distribuidas con la siguiente distribución discreta de\n",
    "probabilidades {$\\frac{1}{6}$ , $\\frac{1}{6}$ ,$\\frac{1}{6}$ ,$\\frac{1}{6}$ , $\\frac{3}{24}$ , $\\frac{5}{24}$ }. Aplique un test de Chi2 con una distribución correspondiente a un dado no cargado con un nivel de significancia del 5%. ¿Con qué frecuencia se rechaza la hipótesis nula? ¿Cómo se interpreta este resultado?\n",
    "\n",
    "---\n",
    "\n",
    "con un nivel de significación 0.05 y grados de libertad = 6 - 1 = 5, t = 11.07"
   ]
  },
  {
   "cell_type": "code",
   "execution_count": 218,
   "metadata": {},
   "outputs": [
    {
     "name": "stdout",
     "output_type": "stream",
     "text": [
      "8\n"
     ]
    }
   ],
   "source": [
    "probs = [float(1)/6,float(1)/6,float(1)/6,float(1)/6,float(3)/24,float(5)/24]\n",
    "n=50\n",
    "def intervalos(n, probs):\n",
    "    d = {-1: (0,0)}\n",
    "    for i in range(0,n):\n",
    "        d[i] = (d[i-1][1],d[i-1][1] + probs[i])\n",
    "    return d\n",
    "\n",
    "\n",
    "def getKforU(d,u):\n",
    "    for i in d:\n",
    "        if u > d[i][0] and u < d[i][1]:\n",
    "            return i\n",
    "\n",
    "d = intervalos(6,probs)\n",
    "    \n",
    "k = 6 #CANTIDAD DE VALORES DIFERENTES \n",
    "p = 1/k #Probabilidad esperada para cada valor\n",
    "\n",
    "t = 11.07\n",
    "rechazos = 0\n",
    "for i in range(100):\n",
    "    ocurrencias = {0:0,1:0,2:0,3:0,4:0,5:0}\n",
    "    for i in range(50):\n",
    "        u = np.random.uniform()\n",
    "        ocurrencias[getKforU(d, u)] += 1\n",
    "    d2 = calcularD2(n,p,ocurrencias)\n",
    "    if(d2 > t):\n",
    "        rechazos += 1\n",
    "\n",
    "print(rechazos)"
   ]
  },
  {
   "cell_type": "markdown",
   "metadata": {},
   "source": [
    "### Ejercicio 21\n",
    "\n",
    "Utilizando Octave/Matlab o Python, realice los siguientes experimentos 500 veces\n",
    "\n",
    "   a. Genere 100 muestras de una variable 𝑋 definida como la suma de 10 variables aleatorias independientes y uniformemente distribuidas en [0,1].\n",
    "   \n",
    "   b. Genere 100 muestras de una variable 𝑋 definida como la suma de 20 variables aleatorias independientes y uniformemente distribuidas en [0,1].\n",
    "   \n",
    "   c. Para los puntos a. y b., aplique un test de Chi2 con una distribución Gaussiana con la misma media y varianza que 𝑋. ¿Con qué frecuencia se rechaza la hipótesis nula con un nivel de significancia del 5% en cada caso? Interprete los resultados."
   ]
  },
  {
   "cell_type": "code",
   "execution_count": null,
   "metadata": {},
   "outputs": [],
   "source": []
  },
  {
   "cell_type": "markdown",
   "metadata": {},
   "source": [
    "### Ejercicio 22\n",
    "\n",
    "Utilizando Octave/Matlab o Python, genere pares de números independientes (𝑋, 𝑌) que en teoría debería estar distribuidos uniformemente en el cuadrado de lado unidad. Utilice el test Chi2 para medir que tan cierta es esta aseveración."
   ]
  },
  {
   "cell_type": "code",
   "execution_count": null,
   "metadata": {},
   "outputs": [],
   "source": []
  }
 ],
 "metadata": {
  "kernelspec": {
   "display_name": "Python 3",
   "language": "python",
   "name": "python3"
  },
  "language_info": {
   "codemirror_mode": {
    "name": "ipython",
    "version": 3
   },
   "file_extension": ".py",
   "mimetype": "text/x-python",
   "name": "python",
   "nbconvert_exporter": "python",
   "pygments_lexer": "ipython3",
   "version": "3.6.4"
  }
 },
 "nbformat": 4,
 "nbformat_minor": 2
}
