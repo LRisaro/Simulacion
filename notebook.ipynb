{
 "cells": [
  {
   "cell_type": "code",
   "execution_count": 86,
   "metadata": {},
   "outputs": [],
   "source": [
    "import matplotlib.pyplot as plt\n",
    "import plotly\n",
    "import plotly.plotly as py\n",
    "import plotly.graph_objs as go\n",
    "plotly.tools.set_credentials_file(username='mfprado', api_key='kzf5Lu7pbSrt3bYnlXLs')\n",
    "\n",
    "import numpy as np\n",
    "\n",
    "from math import log, sqrt, exp, pi\n",
    "from scipy import stats as st\n",
    "\n",
    "import warnings\n",
    "warnings.filterwarnings(\"ignore\")\n",
    "#Si no tienen la libreria plotly -> https://plot.ly/python/getting-started/"
   ]
  },
  {
   "cell_type": "markdown",
   "metadata": {},
   "source": [
    "# Trabajo Prático 1"
   ]
  },
  {
   "cell_type": "markdown",
   "metadata": {},
   "source": [
    "Ejercicio 1:\n",
    "Utilizando Matlab, Octave o Python implementar un Generador Congruencial Lineal (GCL) de módulo 232, multiplicador 1013904223, incremento de 1664525 y semilla igual a la parte entera del promedio de los números de padrón de los integrantes del grupo.\n",
    "* Informar los primeros 6 números al azar de la secuencia.\n",
    "* Modificar el GCL para que devuelva números al azar entre 0 y 1, y realizar un histograma sobre 100.000\n",
    "valores generados."
   ]
  },
  {
   "cell_type": "code",
   "execution_count": 63,
   "metadata": {},
   "outputs": [
    {
     "name": "stdout",
     "output_type": "stream",
     "text": [
      "1683756394\n",
      "2988766819\n",
      "1144704458\n",
      "3893264899\n",
      "1949204010\n",
      "1294472611\n"
     ]
    }
   ],
   "source": [
    "m = 2**32 #Por qué 2**32 y no 232?\n",
    "c = 1664525\n",
    "a = 1013904223\n",
    "seed = int((94335 + 93784 + 96626)/3)\n",
    "\n",
    "#U(n) = (U(n-1) + c) mod m\n",
    "\n",
    "def U(n):\n",
    "    if (n == 0) :\n",
    "        return seed\n",
    "    else:\n",
    "        return (a*U(n-1) + c) % m\n",
    "\n",
    "\n",
    "# IMPRIMIR LOS PRIMEROS 6\n",
    "for i in range(1,7):\n",
    "    print(U(i))"
   ]
  },
  {
   "cell_type": "code",
   "execution_count": 83,
   "metadata": {},
   "outputs": [
    {
     "data": {
      "text/html": [
       "<iframe id=\"igraph\" scrolling=\"no\" style=\"border:none;\" seamless=\"seamless\" src=\"https://plot.ly/~mfprado/10.embed\" height=\"525px\" width=\"100%\"></iframe>"
      ],
      "text/plain": [
       "<plotly.tools.PlotlyDisplay object>"
      ]
     },
     "execution_count": 83,
     "metadata": {},
     "output_type": "execute_result"
    }
   ],
   "source": [
    "#MODIFICACION PARA DEVOLVER NUMEROS ENTRE 0 Y 1. HISTOGRAMA\n",
    "nums = list()\n",
    "s0 = seed\n",
    "for i in range(0,10000):\n",
    "    x = ((a*s0 + c) % m)\n",
    "    nums.insert(i,x/m)\n",
    "    s0 = x\n",
    "\n",
    "data = [go.Histogram(x=nums)]\n",
    "layout = go.Layout(\n",
    "    title='Distribución de los numeros aleatorios obtenidos',\n",
    "    xaxis=dict(\n",
    "        title='Numeros obtenidos'\n",
    "    ),\n",
    "    yaxis=dict(\n",
    "        title='Cantidad de apariciones'\n",
    "    ),\n",
    "    bargap=0.2,\n",
    "    bargroupgap=0.1\n",
    ")\n",
    "fig = go.Figure(data=data, layout=layout)\n",
    "py.iplot(fig, filename='styled histogram')"
   ]
  },
  {
   "cell_type": "markdown",
   "metadata": {},
   "source": [
    "Ejercicio 2: Utilizando el generador de números aleatorios con distribución uniforme [0,1] implementado en el ejercicio 1 y utilizando el método de la transformada inversa genere números pseudoaleatorios con distribución exponencial negativa de media 15.\n",
    "* Realizar un histograma de 100.000 valores obtenidos.\n",
    "* Calcular la media, varianza y moda de la distribución obtenida y compararlos con los valores teóricos."
   ]
  },
  {
   "cell_type": "code",
   "execution_count": 84,
   "metadata": {},
   "outputs": [
    {
     "name": "stdout",
     "output_type": "stream",
     "text": [
      "Varianza = 224.20778284372452\n",
      "Media = 10.337296145819234\n",
      "Moda = 3.3339056914527345e-05\n"
     ]
    },
    {
     "data": {
      "text/html": [
       "<iframe id=\"igraph\" scrolling=\"no\" style=\"border:none;\" seamless=\"seamless\" src=\"https://plot.ly/~mfprado/10.embed\" height=\"525px\" width=\"100%\"></iframe>"
      ],
      "text/plain": [
       "<plotly.tools.PlotlyDisplay object>"
      ]
     },
     "execution_count": 84,
     "metadata": {},
     "output_type": "execute_result"
    }
   ],
   "source": [
    "alfa = 1/15\n",
    "nums = list()\n",
    "numsExp = list()\n",
    "exp = 0\n",
    "n = 100000 #Cantidad de muestras\n",
    "\n",
    "s0 = seed\n",
    "for i in range(0,n):\n",
    "    x = ((a*s0 + c) % m)\n",
    "    nums.insert(i,x/m)\n",
    "    s0 = x\n",
    "\n",
    "for i in range(0,n):\n",
    "    exp = (log(1-(nums[i]))/alfa)*(-1)\n",
    "    numsExp.insert(i,exp)\n",
    "\n",
    "counts = np.unique(nums, return_counts=True)\n",
    "\n",
    "unique, counts = np.unique(numsExp, return_counts=True)\n",
    "# print(unique)\n",
    "# print(counts)\n",
    "\n",
    "print('Varianza = ' + str(np.var(numsExp)))\n",
    "print('Media = ' + str(np.median(numsExp)))\n",
    "print('Moda = ' + str(st.mode(numsExp)[0][0]))\n",
    "\n",
    "data = [go.Histogram(x=numsExp)]\n",
    "layout = go.Layout(\n",
    "    title='Distribución de los numeros aleatorios obtenidos',\n",
    "    xaxis=dict(\n",
    "        title='Numeros obtenidos'\n",
    "    ),\n",
    "    yaxis=dict(\n",
    "        title='Cantidad de apariciones'\n",
    "    ),\n",
    "    bargap=0.2,\n",
    "    bargroupgap=0.1\n",
    ")\n",
    "fig = go.Figure(data=data, layout=layout)\n",
    "py.iplot(fig, filename='styled histogram')"
   ]
  },
  {
   "cell_type": "markdown",
   "metadata": {},
   "source": [
    "Ejercicio 3: Utilizando el generador de números aleatorios con distribución uniforme [0,1] implementado en el ejercicio 1 genere números pseudoaleatorios con distribución Normal Standard utilizando el método de la transformada inversa (realizando un muestreo de función de distribución acumulada e interpolándolos linealmente).\n",
    "* Realizar un histograma de 100.000 valores obtenidos.\n",
    "* Calcular la media, varianza y moda de la distribución obtenida y compararlos con los valores teóricos.\n"
   ]
  },
  {
   "cell_type": "code",
   "execution_count": null,
   "metadata": {},
   "outputs": [],
   "source": []
  },
  {
   "cell_type": "markdown",
   "metadata": {},
   "source": [
    "Ejercicio 4: Genere 100.000 número aleatorios con distribución Normal de media 35 y desvío estándar 5 utilizando el algoritmo de Aceptación y Rechazo.\n",
    "* Realizar un histograma con todos los valores obtenidos.\n",
    "* Comparar, en el mismo gráfico, el histograma realizado en el punto anterior con la distribución normal brindada por Matlab u Octave.\n",
    "* Calcular la media, varianza y moda de la distribución obtenida y compararlos con los valores teóricos."
   ]
  },
  {
   "cell_type": "code",
   "execution_count": 91,
   "metadata": {},
   "outputs": [
    {
     "name": "stdout",
     "output_type": "stream",
     "text": [
      "Porcentaje de rechazo = 0.0\n",
      "Varianza = 1.9942470810211572\n",
      "Media = -0.002762590013495359\n",
      "Moda = -9.743091987622687\n"
     ]
    },
    {
     "data": {
      "text/html": [
       "<iframe id=\"igraph\" scrolling=\"no\" style=\"border:none;\" seamless=\"seamless\" src=\"https://plot.ly/~mfprado/10.embed\" height=\"525px\" width=\"100%\"></iframe>"
      ],
      "text/plain": [
       "<plotly.tools.PlotlyDisplay object>"
      ]
     },
     "execution_count": 91,
     "metadata": {},
     "output_type": "execute_result"
    }
   ],
   "source": [
    "c= sqrt(2*exp(1)/pi)\n",
    "\n",
    "#GENERO N MUESTRAS EXPONENCIALES DE MEDIA 1\n",
    "n = 100000\n",
    "numsExp = list()\n",
    "probabilidadDeAceptar = list()\n",
    "numsGauss = list() #ACA GUARDO LOS VALORES ACEPTADOS COMO GAUSSIANOS\n",
    "\n",
    "#NORMAL DE MEDIA 35 Y VARIANZA 25\n",
    "def normal(x):\n",
    "    return ((exp(-0.5*(((x-35)/5)**2)))/sqrt(50*pi))\n",
    "\n",
    "#PROBABILIDAD DE ACPTAR EL VALOR GENERADO\n",
    "def prob(x):\n",
    "    return (normal(x)/(c*exp(-x)))\n",
    "\n",
    "#GENERO MUESTRAS DE EXPONENCIALES DE MEDIA 1 Y GENERO UN VECTOR DE PROBABILIDADES\n",
    "#DE ACEPTAR CADA VALOR GENERADO\n",
    "for i in range(0,n):\n",
    "    t = np.random.exponential(1)\n",
    "    numsExp.insert(i, t)\n",
    "    probabilidadDeAceptar.insert(i,prob(t))\n",
    "\n",
    "for i in range(0,n):\n",
    "    r = np.random.uniform()\n",
    "\n",
    "    #print( 'r me dio = ' + str(r) + ' y la probabilidad de acaptar es = ' + str(probabilidadDeAceptar[i]))\n",
    "\n",
    "    if r > probabilidadDeAceptar[i]:\n",
    "        r2 = np.random.uniform()\n",
    "        #print ('r2 me esta dando =' + str(r2))\n",
    "        if r2 < 0.5:\n",
    "            numsGauss.insert(i,numsExp[i])\n",
    "        else:\n",
    "            numsGauss.insert(i,numsExp[i]*(-1))\n",
    "\n",
    "print('Porcentaje de rechazo = ' + str((n-len(numsGauss))/n))\n",
    "\n",
    "print('Varianza = ' + str(np.var(numsGauss)))\n",
    "print('Media = ' + str(np.median(numsGauss)))\n",
    "print('Moda = ' + str(st.mode(numsGauss)[0][0]))\n",
    "\n",
    "data = [go.Histogram(x=numsGauss)]\n",
    "layout = go.Layout(\n",
    "    title='Distribución de los numeros aleatorios obtenidos',\n",
    "    xaxis=dict(\n",
    "        title='Numeros obtenidos'\n",
    "    ),\n",
    "    yaxis=dict(\n",
    "        title='Cantidad de apariciones'\n",
    "    ),\n",
    "    bargap=0.2,\n",
    "    bargroupgap=0.1\n",
    ")\n",
    "fig = go.Figure(data=data, layout=layout)\n",
    "py.iplot(fig, filename='styled histogram')"
   ]
  },
  {
   "cell_type": "markdown",
   "metadata": {},
   "source": [
    "Ejercicio 5: Utilizando el método de la transformada inversa y utilizando el generador de números aleatorios implementado en el ejercicio 1 genere números aleatorios siguiendo la siguiente función de distribución de probabilidad empírica.\n",
    "\n",
    "| Probabilidad | Valor generado |\n",
    "| --- | --- |\n",
    "| 0.5 | 1 |\n",
    "| 0.2 | 2 |\n",
    "| 0.1 | 3 |\n",
    "| 0.2 | 4 |\n"
   ]
  },
  {
   "cell_type": "code",
   "execution_count": null,
   "metadata": {},
   "outputs": [],
   "source": []
  },
  {
   "cell_type": "markdown",
   "metadata": {},
   "source": [
    "Ejercicio 6: Considerar el siguiente experimento:\n",
    "Lanzar una moneda tantas veces como sea necesario hasta obtener cara.\n",
    "Realizar el experimento 10000 veces indicando:\n",
    "* ¿A qué tipo de proceso corresponde cada uno de los lanzamientos?\n",
    "* Con qué distribución conocida se puede modelar cada uno de los experimentos.\n",
    "* Realizar un histograma mostrando la distribución obtenida"
   ]
  },
  {
   "cell_type": "code",
   "execution_count": 90,
   "metadata": {},
   "outputs": [
    {
     "data": {
      "text/html": [
       "<iframe id=\"igraph\" scrolling=\"no\" style=\"border:none;\" seamless=\"seamless\" src=\"https://plot.ly/~mfprado/10.embed\" height=\"525px\" width=\"100%\"></iframe>"
      ],
      "text/plain": [
       "<plotly.tools.PlotlyDisplay object>"
      ]
     },
     "execution_count": 90,
     "metadata": {},
     "output_type": "execute_result"
    }
   ],
   "source": [
    "nums = list()\n",
    "for i in range(0,10000):\n",
    "    nums.insert(i,np.random.geometric(0.5))\n",
    "\n",
    "\n",
    "data = [go.Histogram(x=nums)]\n",
    "layout = go.Layout(\n",
    "    title='Distribución de los numeros aleatorios obtenidos',\n",
    "    xaxis=dict(\n",
    "        title='Numeros obtenidos'\n",
    "    ),\n",
    "    yaxis=dict(\n",
    "        title='Cantidad de apariciones'\n",
    "    ),\n",
    "    bargap=0.2,\n",
    "    bargroupgap=0.1\n",
    ")\n",
    "fig = go.Figure(data=data, layout=layout)\n",
    "py.iplot(fig, filename='styled histogram')"
   ]
  },
  {
   "cell_type": "markdown",
   "metadata": {},
   "source": [
    "Ejercicio 7: Realizar, sólo gráficamente, un test espectral en 2 y 3 dimensiones al generador conguencial lineal implementado en el ejercicio 1. ¿Cómo se distribuyen espacialmente los puntos obtenidos?"
   ]
  },
  {
   "cell_type": "code",
   "execution_count": null,
   "metadata": {},
   "outputs": [],
   "source": []
  },
  {
   "cell_type": "markdown",
   "metadata": {},
   "source": [
    "Ejercicio 8: Realizar un test Chi 2 a la distribución empírica implementada en el Ej 6. Analizar el resultado para un nivel de significación 0,01."
   ]
  },
  {
   "cell_type": "code",
   "execution_count": null,
   "metadata": {},
   "outputs": [],
   "source": []
  },
  {
   "cell_type": "markdown",
   "metadata": {},
   "source": [
    "Ejercicio 9: Al generador congruencial lineal implementado en el ejercicio 1 realizarle un gap test para los siguientes intervalos:\n",
    "\n",
    "| Intervalo 1 | Intervalo 2  |\n",
    "|--|\n",
    "| 0.2 - 0.6 | 0.5 - 1|\n",
    "\n",
    "Analizar los resultados con un nivel de significación del 5%."
   ]
  },
  {
   "cell_type": "code",
   "execution_count": null,
   "metadata": {},
   "outputs": [],
   "source": []
  },
  {
   "cell_type": "markdown",
   "metadata": {},
   "source": [
    "Ejercicio 10: Aplicar el test de Kolmogorov-Smirnov al generador de números al azar con distribución normal generado en el ejercicio 4, y analizar el resultado del mismo para un nivel de significación 0,01.\n",
    "\n",
    "Graficar la distribución acumulada real versus la distribución empírica."
   ]
  },
  {
   "cell_type": "code",
   "execution_count": 95,
   "metadata": {},
   "outputs": [
    {
     "data": {
      "text/html": [
       "<iframe id=\"igraph\" scrolling=\"no\" style=\"border:none;\" seamless=\"seamless\" src=\"https://plot.ly/~mfprado/10.embed\" height=\"525px\" width=\"100%\"></iframe>"
      ],
      "text/plain": [
       "<plotly.tools.PlotlyDisplay object>"
      ]
     },
     "execution_count": 95,
     "metadata": {},
     "output_type": "execute_result"
    }
   ],
   "source": [
    "nums = list()\n",
    "for i in range(0,10000):\n",
    "    nums.insert(i,np.random.geometric(0.5))\n",
    "\n",
    "data = [go.Histogram(x=nums)]\n",
    "layout = go.Layout(\n",
    "    title='Distribución de los numeros aleatorios obtenidos',\n",
    "    xaxis=dict(\n",
    "        title='Numeros obtenidos'\n",
    "    ),\n",
    "    yaxis=dict(\n",
    "        title='Cantidad de apariciones'\n",
    "    ),\n",
    "    bargap=0.2,\n",
    "    bargroupgap=0.1\n",
    ")\n",
    "fig = go.Figure(data=data, layout=layout)\n",
    "py.iplot(fig, filename='styled histogram')"
   ]
  },
  {
   "cell_type": "code",
   "execution_count": null,
   "metadata": {},
   "outputs": [],
   "source": []
  }
 ],
 "metadata": {
  "kernelspec": {
   "display_name": "Python 3",
   "language": "python",
   "name": "python3"
  },
  "language_info": {
   "codemirror_mode": {
    "name": "ipython",
    "version": 3
   },
   "file_extension": ".py",
   "mimetype": "text/x-python",
   "name": "python",
   "nbconvert_exporter": "python",
   "pygments_lexer": "ipython3",
   "version": "3.6.4"
  }
 },
 "nbformat": 4,
 "nbformat_minor": 2
}
