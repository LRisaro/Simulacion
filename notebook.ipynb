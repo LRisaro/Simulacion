{
 "cells": [
  {
   "cell_type": "code",
   "execution_count": 38,
   "metadata": {},
   "outputs": [],
   "source": [
    "import matplotlib.pyplot as plt\n",
    "import pandas as pd\n",
    "import plotly\n",
    "import plotly.plotly as py\n",
    "import plotly.graph_objs as go\n",
    "plotly.tools.set_credentials_file(username='mfprado', api_key='kzf5Lu7pbSrt3bYnlXLs')\n",
    "\n",
    "import numpy as np\n",
    "\n",
    "from math import log, sqrt, exp, pi\n",
    "from scipy import stats as st\n",
    "import seaborn as sns\n",
    "sns.set(color_codes=True)\n",
    "sns.set_palette(sns.color_palette(\"Set2\"))\n",
    "sns.set(rc={'figure.figsize':(11,8)})\n",
    "\n",
    "\n",
    "import warnings\n",
    "warnings.filterwarnings(\"ignore\")\n",
    "#Si no tienen la libreria plotly -> https://plot.ly/python/getting-started/\n",
    "#Si no tienen la libreria seaborn http://seaborn.pydata.org/installing.html"
   ]
  },
  {
   "cell_type": "markdown",
   "metadata": {},
   "source": [
    "# Trabajo Prático 1"
   ]
  },
  {
   "cell_type": "markdown",
   "metadata": {},
   "source": [
    "#### Ejercicio 1\n",
    "Utilizando Matlab, Octave o Python implementar un Generador Congruencial Lineal (GCL) de módulo \n",
    "$2^{32}$ , multiplicador 1013904223, incremento de 1664525 y semilla igual a la parte entera del promedio de los números de padrón de los integrantes del grupo.\n",
    "* Informar los primeros 6 números al azar de la secuencia.\n",
    "* Modificar el GCL para que devuelva números al azar entre 0 y 1, y realizar un histograma sobre 100.000\n",
    "valores generados."
   ]
  },
  {
   "cell_type": "code",
   "execution_count": 2,
   "metadata": {},
   "outputs": [
    {
     "name": "stdout",
     "output_type": "stream",
     "text": [
      "1683756394\n",
      "2988766819\n",
      "1144704458\n",
      "3893264899\n",
      "1949204010\n",
      "1294472611\n"
     ]
    }
   ],
   "source": [
    "m = 2**32 \n",
    "a = 1013904223\n",
    "c = 1664525\n",
    "seed = int((94335 + 93784 + 96626)/3)\n",
    "\n",
    "# Método Lineal Congruente [Lehmer, 1949]\n",
    "#U(n) = (a*U(n-1) + c) mod m\n",
    "\n",
    "Un = {}\n",
    "Un[0] = seed\n",
    "\n",
    "def U(n):\n",
    "    if (n in Un) :\n",
    "        return Un[n]\n",
    "    else:\n",
    "        Un[n] = (a*U(n-1) + c) % m\n",
    "        return Un[n]\n",
    "\n",
    "# Primeros 6 Números Aleatorios\n",
    "for i in range(1,7):\n",
    "    print(U(i))"
   ]
  },
  {
   "cell_type": "code",
   "execution_count": 3,
   "metadata": {},
   "outputs": [],
   "source": [
    "#100.000 valores random generados entre 0 y 1\n",
    "randomNums1 = list()\n",
    "for i in range(0,100000):\n",
    "    x = U(i+1)\n",
    "    randomNums1.insert(i,x/m)"
   ]
  },
  {
   "cell_type": "code",
   "execution_count": 4,
   "metadata": {
    "code_folding": []
   },
   "outputs": [
    {
     "data": {
      "text/html": [
       "<iframe id=\"igraph\" scrolling=\"no\" style=\"border:none;\" seamless=\"seamless\" src=\"https://plot.ly/~mfprado/10.embed\" height=\"525px\" width=\"100%\"></iframe>"
      ],
      "text/plain": [
       "<plotly.tools.PlotlyDisplay object>"
      ]
     },
     "execution_count": 4,
     "metadata": {},
     "output_type": "execute_result"
    }
   ],
   "source": [
    "data = [go.Histogram(x=randomNums1)]\n",
    "layout = go.Layout(\n",
    "    title='Distribución de los numeros aleatorios obtenidos',\n",
    "    xaxis=dict(\n",
    "        title='Numeros obtenidos'\n",
    "    ),\n",
    "    yaxis=dict(\n",
    "        title='Cantidad de apariciones'\n",
    "    ),\n",
    "    bargap=0.2,\n",
    "    bargroupgap=0.1\n",
    ")\n",
    "fig = go.Figure(data=data, layout=layout)\n",
    "py.iplot(fig, filename='styled histogram')"
   ]
  },
  {
   "cell_type": "code",
   "execution_count": 5,
   "metadata": {},
   "outputs": [
    {
     "data": {
      "image/png": "[encoded data removed]",
      "text/plain": [
       "<matplotlib.figure.Figure at 0x1a13621828>"
      ]
     },
     "metadata": {},
     "output_type": "display_data"
    }
   ],
   "source": [
    "plt.xlabel('Números observados')\n",
    "plt.ylabel('Cantidad de apariciones')\n",
    "plt.title('Histograma')\n",
    "\n",
    "sns.distplot(randomNums1,  kde=False)\n",
    "sns.set(style=\"white\", context=\"talk\")"
   ]
  },
  {
   "cell_type": "code",
   "execution_count": 6,
   "metadata": {},
   "outputs": [
    {
     "data": {
      "image/png": "[encoded data removed]",
      "text/plain": [
       "<matplotlib.figure.Figure at 0x1a136213c8>"
      ]
     },
     "metadata": {},
     "output_type": "display_data"
    }
   ],
   "source": [
    "plt.xlabel('Números observados')\n",
    "\n",
    "sns.distplot(randomNums1)\n",
    "sns.set(style=\"white\", context=\"talk\")"
   ]
  },
  {
   "cell_type": "markdown",
   "metadata": {},
   "source": [
    "#### Ejercicio 2\n",
    "Utilizando el generador de números aleatorios con distribución uniforme [0,1] implementado en el ejercicio 1 y utilizando el método de la transformada inversa genere números pseudoaleatorios con distribución exponencial negativa de media 15.\n",
    "* Realizar un histograma de 100.000 valores obtenidos.\n",
    "* Calcular la media, varianza y moda de la distribución obtenida y compararlos con los valores teóricos."
   ]
  },
  {
   "cell_type": "code",
   "execution_count": 10,
   "metadata": {},
   "outputs": [
    {
     "name": "stdout",
     "output_type": "stream",
     "text": [
      "Varianza = 225.92730058259363\n",
      "Media = 10.379580021900171\n",
      "Moda = 8.081553818275827e-06\n"
     ]
    }
   ],
   "source": [
    "alfa = 1/15\n",
    "numsExp2 = list()\n",
    "exp = 0\n",
    "n = 100000 #Cantidad de muestras\n",
    "\n",
    "for i in range(0,n):\n",
    "    exp = (log(1-(randomNums1[i]))/alfa)*(-1)\n",
    "    numsExp2.insert(i,exp)\n",
    "\n",
    "unique, counts = np.unique(numsExp2, return_counts=True)\n",
    "\n",
    "print('Varianza = ' + str(np.var(numsExp)))\n",
    "print('Media = ' + str(np.median(numsExp)))\n",
    "print('Moda = ' + str(st.mode(numsExp)[0][0]))"
   ]
  },
  {
   "cell_type": "code",
   "execution_count": 11,
   "metadata": {},
   "outputs": [
    {
     "data": {
      "text/html": [
       "<iframe id=\"igraph\" scrolling=\"no\" style=\"border:none;\" seamless=\"seamless\" src=\"https://plot.ly/~mfprado/10.embed\" height=\"525px\" width=\"100%\"></iframe>"
      ],
      "text/plain": [
       "<plotly.tools.PlotlyDisplay object>"
      ]
     },
     "execution_count": 11,
     "metadata": {},
     "output_type": "execute_result"
    }
   ],
   "source": [
    "data = [go.Histogram(x=numsExp2)]\n",
    "layout = go.Layout(\n",
    "    title='Distribución de los numeros aleatorios obtenidos',\n",
    "    xaxis=dict(\n",
    "        title='Numeros obtenidos'\n",
    "    ),\n",
    "    yaxis=dict(\n",
    "        title='Cantidad de apariciones'\n",
    "    ),\n",
    "    bargap=0.2,\n",
    "    bargroupgap=0.1\n",
    ")\n",
    "fig = go.Figure(data=data, layout=layout)\n",
    "py.iplot(fig, filename='styled histogram')\n"
   ]
  },
  {
   "cell_type": "code",
   "execution_count": 12,
   "metadata": {
    "scrolled": false
   },
   "outputs": [
    {
     "data": {
      "image/png": "[encoded data removed]",
      "text/plain": [
       "<matplotlib.figure.Figure at 0x1a1d6a7748>"
      ]
     },
     "metadata": {},
     "output_type": "display_data"
    }
   ],
   "source": [
    "plt.xlabel('Números observados')\n",
    "plt.ylabel('Cantidad de apariciones')\n",
    "plt.title('Histograma')\n",
    "\n",
    "\n",
    "sns.distplot(numsExp2, kde=False)\n",
    "sns.set(style=\"white\", context=\"talk\")"
   ]
  },
  {
   "cell_type": "markdown",
   "metadata": {},
   "source": [
    "La distribución exponencial es una distribución de probabilidad continua con un parámetro \n",
    "$λ>0$\n",
    " cuya función de densidad es:\n",
    "$f(x)= P(x)=\\left\\{\\begin{matrix}\n",
    "  \\lambda e^{-\\lambda x} & \\quad \\text{para } x \\ge 0 \\\\\n",
    "  0 & \\quad \\text{en caso contrario}\n",
    "  \\end{matrix}\\right.$\n",
    "  \n",
    "Y su función de distribución acumulada es:\n",
    "\n",
    "$  F(x)= P(X \\le x)=\\left\\{\\begin{matrix}\n",
    "  0 & \\text{para }x < 0 \\\\\n",
    "  1-e^{-\\lambda x} & \\text{para }x \\ge 0\n",
    "  \\end{matrix}\\right.$\n",
    "  \n",
    "La media se puede calcular como:\n",
    "  \n",
    " $E[X]=\\frac{1}{\\lambda}$\n",
    " \n",
    "y la varianza como:\n",
    " \n",
    "$ V[X]=\\frac{1}{\\lambda^2}$\n",
    "\n",
    "en cuanto la moda para una distribución exponencial siempre es 0.\n",
    "  \n",
    " Para el caso que estamos estudiando: \n",
    " \n",
    " $λ = 1/15$\n",
    " \n",
    " Por lo que teóricamente \n",
    " \n",
    " $E[X] = 15,\\qquad V[X] = 225$\n",
    " \n",
    " La media,varianza y moda obtenidas fueron:\n",
    " \n",
    " $E[X] = 10.379580021900171,\\qquad V[X] = 225.9273005825936,\\qquad Moda = 8.081553818275827e-06$\n"
   ]
  },
  {
   "cell_type": "markdown",
   "metadata": {},
   "source": [
    "#### Ejercicio 3\n",
    "Utilizando el generador de números aleatorios con distribución uniforme [0,1] implementado en el ejercicio 1 genere números pseudoaleatorios con distribución Normal Standard utilizando el método de la transformada inversa (realizando un muestreo de función de distribución acumulada e interpolándolos linealmente).\n",
    "* Realizar un histograma de 100.000 valores obtenidos.\n",
    "* Calcular la media, varianza y moda de la distribución obtenida y compararlos con los valores teóricos.\n"
   ]
  },
  {
   "cell_type": "code",
   "execution_count": null,
   "metadata": {},
   "outputs": [],
   "source": []
  },
  {
   "cell_type": "markdown",
   "metadata": {},
   "source": [
    "#### Ejercicio 4\n",
    "Genere 100.000 números aleatorios con distribución Normal de media 35 y desvío estándar 5 utilizando el algoritmo de Aceptación y Rechazo.\n",
    "* Realizar un histograma con todos los valores obtenidos.\n",
    "* Comparar, en el mismo gráfico, el histograma realizado en el punto anterior con la distribución normal brindada por Matlab u Octave.\n",
    "* Calcular la media, varianza y moda de la distribución obtenida y compararlos con los valores teóricos."
   ]
  },
  {
   "cell_type": "code",
   "execution_count": 39,
   "metadata": {},
   "outputs": [
    {
     "name": "stdout",
     "output_type": "stream",
     "text": [
      "Porcentaje de rechazo = 1e-05\n",
      "Varianza = 1.9880531888001787\n",
      "Media = -0.004346235430741371\n",
      "Moda = -11.496614618492458\n"
     ]
    }
   ],
   "source": [
    "c = sqrt((2*exp(1)/pi))\n",
    "\n",
    "#N MUESTRAS EXPONENCIALES DE MEDIA 1\n",
    "n = 100000\n",
    "numsExp4 = list()\n",
    "probabilidadDeAceptar = list()\n",
    "numsGauss = list() #VALORES ACEPTADOS COMO GAUSSIANOS\n",
    "\n",
    "#NORMAL DE MEDIA 35 Y VARIANZA 25\n",
    "def normal(x):\n",
    "    return ((exp(-0.5*(((x-35)/5)**2)))/sqrt(50*pi))\n",
    "\n",
    "#PROBABILIDAD DE ACPTAR EL VALOR GENERADO\n",
    "def prob(x):\n",
    "    return (normal(x)/(c*exp(-x)))\n",
    "\n",
    "#MUESTRAS DE EXPONENCIALES DE MEDIA 1 Y SE GENERA UN VECTOR DE PROBABILIDADES\n",
    "#DE ACEPTAR CADA VALOR GENERADO\n",
    "for i in range(0,n):\n",
    "    t = np.random.exponential(1)\n",
    "    numsExp4.insert(i, t)\n",
    "    probabilidadDeAceptar.insert(i,prob(t))\n",
    "\n",
    "for i in range(0,n):\n",
    "    r = np.random.uniform()\n",
    "\n",
    "    if r > probabilidadDeAceptar[i]:\n",
    "        r2 = np.random.uniform()\n",
    "        if r2 < 0.5:\n",
    "            numsGauss.insert(i,numsExp4[i])\n",
    "        else:\n",
    "            numsGauss.insert(i,numsExp4[i]*(-1))\n",
    "\n",
    "print('Porcentaje de rechazo = ' + str((n-len(numsGauss))/n))\n",
    "print('Varianza = ' + str(np.var(numsGauss)))\n",
    "print('Media = ' + str(np.median(numsGauss)))\n",
    "print('Moda = ' + str(st.mode(numsGauss)[0][0]))"
   ]
  },
  {
   "cell_type": "code",
   "execution_count": 40,
   "metadata": {},
   "outputs": [
    {
     "data": {
      "text/html": [
       "<iframe id=\"igraph\" scrolling=\"no\" style=\"border:none;\" seamless=\"seamless\" src=\"https://plot.ly/~mfprado/10.embed\" height=\"525px\" width=\"100%\"></iframe>"
      ],
      "text/plain": [
       "<plotly.tools.PlotlyDisplay object>"
      ]
     },
     "execution_count": 40,
     "metadata": {},
     "output_type": "execute_result"
    }
   ],
   "source": [
    "data = [go.Histogram(x=numsGauss)]\n",
    "layout = go.Layout(\n",
    "    title='Distribución de los numeros aleatorios obtenidos',\n",
    "    xaxis=dict(\n",
    "        title='Numeros obtenidos'\n",
    "    ),\n",
    "    yaxis=dict(\n",
    "        title='Cantidad de apariciones'\n",
    "    ),\n",
    "    bargap=0.2,\n",
    "    bargroupgap=0.1\n",
    ")\n",
    "fig = go.Figure(data=data, layout=layout)\n",
    "py.iplot(fig, filename='styled histogram')"
   ]
  },
  {
   "cell_type": "markdown",
   "metadata": {},
   "source": [
    "#### Ejercicio 5\n",
    "Utilizando el método de la transformada inversa y utilizando el generador de números aleatorios implementado en el ejercicio 1 genere números aleatorios siguiendo la siguiente función de distribución de probabilidad empírica.\n",
    "\n",
    "| Probabilidad | Valor generado |\n",
    "| --- | --- |\n",
    "| 0.5 | 1 |\n",
    "| 0.2 | 2 |\n",
    "| 0.1 | 3 |\n",
    "| 0.2 | 4 |\n"
   ]
  },
  {
   "cell_type": "code",
   "execution_count": 19,
   "metadata": {},
   "outputs": [],
   "source": [
    "def convertToFixedNumber(u):\n",
    "  if (u <= .5):\n",
    "    return 1\n",
    "  elif (u > .5 and u <= .7):\n",
    "    return 2\n",
    "  elif (u > .7 and u <= .8):\n",
    "    return 3\n",
    "  elif (u > .8 and u <= 1):\n",
    "    return 4\n",
    "\n",
    "nums5 = list()\n",
    "for i in range(100000):\n",
    "    nums5.append(convertToFixedNumber(Un[i]/m))"
   ]
  },
  {
   "cell_type": "code",
   "execution_count": 20,
   "metadata": {
    "scrolled": false
   },
   "outputs": [
    {
     "data": {
      "text/html": [
       "<iframe id=\"igraph\" scrolling=\"no\" style=\"border:none;\" seamless=\"seamless\" src=\"https://plot.ly/~mfprado/10.embed\" height=\"525px\" width=\"100%\"></iframe>"
      ],
      "text/plain": [
       "<plotly.tools.PlotlyDisplay object>"
      ]
     },
     "execution_count": 20,
     "metadata": {},
     "output_type": "execute_result"
    }
   ],
   "source": [
    "data = [go.Histogram(x=nums5)]\n",
    "layout = go.Layout(\n",
    "    title='Distribución de los numeros aleatorios obtenidos',\n",
    "    xaxis=dict(\n",
    "        title='Numeros obtenidos'\n",
    "    ),\n",
    "    yaxis=dict(\n",
    "        title='Cantidad de apariciones'\n",
    "    ),\n",
    "    bargap=0.2,\n",
    "    bargroupgap=0.1\n",
    ")\n",
    "fig = go.Figure(data=data, layout=layout)\n",
    "py.iplot(fig, filename='styled histogram')"
   ]
  },
  {
   "cell_type": "markdown",
   "metadata": {},
   "source": [
    "En el gráfico anterior se puede distinguir el comportamiento esperado. \n",
    "Tomamos 100k muestras en las cuales, aproximadamente obtuvimos:\n",
    "\n",
    "1 en 50k muestras$  ,\\qquad P(1) = 0.5$.\n",
    "\n",
    "2 en 20k muestras  $  ,\\qquad P(2) = 0.2$.\n",
    "\n",
    "3 en 10k muestras  $  ,\\qquad P(3) = 0.1$.\n",
    "\n",
    "4 en 20k muestras  $  ,\\qquad P(4) = 0.2$."
   ]
  },
  {
   "cell_type": "markdown",
   "metadata": {},
   "source": [
    "#### Ejercicio 6\n",
    "Considerar el siguiente experimento:\n",
    "Lanzar una moneda tantas veces como sea necesario hasta obtener cara.\n",
    "Realizar el experimento 10000 veces indicando:\n",
    "* ¿A qué tipo de proceso corresponde cada uno de los lanzamientos?\n",
    "* Con qué distribución conocida se puede modelar cada uno de los experimentos.\n",
    "* Realizar un histograma mostrando la distribución obtenida"
   ]
  },
  {
   "cell_type": "code",
   "execution_count": 21,
   "metadata": {},
   "outputs": [],
   "source": [
    "nums6 = list()\n",
    "for i in range(0,10000):\n",
    "    nums6.insert(i,np.random.geometric(0.5))"
   ]
  },
  {
   "cell_type": "code",
   "execution_count": 22,
   "metadata": {},
   "outputs": [
    {
     "data": {
      "text/html": [
       "<iframe id=\"igraph\" scrolling=\"no\" style=\"border:none;\" seamless=\"seamless\" src=\"https://plot.ly/~mfprado/10.embed\" height=\"525px\" width=\"100%\"></iframe>"
      ],
      "text/plain": [
       "<plotly.tools.PlotlyDisplay object>"
      ]
     },
     "execution_count": 22,
     "metadata": {},
     "output_type": "execute_result"
    }
   ],
   "source": [
    "data = [go.Histogram(x=nums6)]\n",
    "layout = go.Layout(\n",
    "    title='Distribución de los numeros aleatorios obtenidos',\n",
    "    xaxis=dict(\n",
    "        title='Numeros obtenidos'\n",
    "    ),\n",
    "    yaxis=dict(\n",
    "        title='Cantidad de apariciones'\n",
    "    ),\n",
    "    bargap=0.2,\n",
    "    bargroupgap=0.1\n",
    ")\n",
    "fig = go.Figure(data=data, layout=layout)\n",
    "py.iplot(fig, filename='styled histogram')"
   ]
  },
  {
   "cell_type": "markdown",
   "metadata": {},
   "source": [
    "Cada uno de los lanzamientos corresponde al tipo de proceso ...\n",
    "\n",
    "Cada uno de los experimentos se pueden modelar con una distribución ..."
   ]
  },
  {
   "cell_type": "markdown",
   "metadata": {},
   "source": [
    "#### Ejercicio 7\n",
    "Realizar, sólo gráficamente, un test espectral en 2 y 3 dimensiones al generador conguencial lineal implementado en el ejercicio 1. ¿Cómo se distribuyen espacialmente los puntos obtenidos?"
   ]
  },
  {
   "cell_type": "code",
   "execution_count": 23,
   "metadata": {},
   "outputs": [],
   "source": [
    "xs = []\n",
    "ys = []\n",
    "for i in range(0,100000-1):\n",
    "    xs.append(Un[i])\n",
    "    ys.append(Un[i+1])\n",
    "\n",
    "xs3d = []\n",
    "ys3d = []\n",
    "zs3d = []\n",
    "for i in range(0,100000-2):\n",
    "    xs3d.append(Un[i])\n",
    "    ys3d.append(Un[i+1])\n",
    "    zs3d.append(Un[i+2])\n"
   ]
  },
  {
   "cell_type": "code",
   "execution_count": 24,
   "metadata": {},
   "outputs": [
    {
     "name": "stdout",
     "output_type": "stream",
     "text": [
      "The draw time for this plot will be slow for all clients.\n"
     ]
    },
    {
     "data": {
      "text/html": [
       "<iframe id=\"igraph\" scrolling=\"no\" style=\"border:none;\" seamless=\"seamless\" src=\"https://plot.ly/~mfprado/26.embed\" height=\"525px\" width=\"100%\"></iframe>"
      ],
      "text/plain": [
       "<plotly.tools.PlotlyDisplay object>"
      ]
     },
     "execution_count": 24,
     "metadata": {},
     "output_type": "execute_result"
    }
   ],
   "source": [
    "trace = go.Scatter(\n",
    "    x = xs,\n",
    "    y = ys,\n",
    "    mode = 'markers'\n",
    ")\n",
    "\n",
    "data = [trace]\n",
    "\n",
    "py.iplot(data)"
   ]
  },
  {
   "cell_type": "code",
   "execution_count": 25,
   "metadata": {},
   "outputs": [
    {
     "name": "stdout",
     "output_type": "stream",
     "text": [
      "The draw time for this plot will be slow for all clients.\n"
     ]
    },
    {
     "data": {
      "text/html": [
       "<iframe id=\"igraph\" scrolling=\"no\" style=\"border:none;\" seamless=\"seamless\" src=\"https://plot.ly/~mfprado/28.embed\" height=\"525px\" width=\"100%\"></iframe>"
      ],
      "text/plain": [
       "<plotly.tools.PlotlyDisplay object>"
      ]
     },
     "execution_count": 25,
     "metadata": {},
     "output_type": "execute_result"
    }
   ],
   "source": [
    "trace1 = go.Scatter3d(\n",
    "    x=xs3d,\n",
    "    y=ys3d,\n",
    "    z=zs3d,\n",
    "    mode='markers',\n",
    "    marker=dict(\n",
    "        size=12,\n",
    "        line=dict(\n",
    "            color='rgba(217, 217, 217, 0.14)',\n",
    "            width=0.5\n",
    "        ),\n",
    "        opacity=0.8\n",
    "    )\n",
    ")\n",
    "\n",
    "\n",
    "data = [trace1]\n",
    "layout = go.Layout(\n",
    "    margin=dict(\n",
    "        l=0,\n",
    "        r=0,\n",
    "        b=0,\n",
    "        t=0\n",
    "    )\n",
    ")\n",
    "fig = go.Figure(data=data, layout=layout)\n",
    "py.iplot(fig)"
   ]
  },
  {
   "cell_type": "markdown",
   "metadata": {},
   "source": [
    "Al ver ambos gráficos, no identificamos patrones claros en la distrubución espacial de los puntos. Lo que implicaría que son números realmente aleatorios"
   ]
  },
  {
   "cell_type": "markdown",
   "metadata": {},
   "source": [
    "#### Ejercicio 8\n",
    "Realizar un test Chi 2 a la distribución empírica implementada en el Ej 6. Analizar el resultado para un nivel de significación 0,01."
   ]
  },
  {
   "cell_type": "code",
   "execution_count": 26,
   "metadata": {
    "code_folding": []
   },
   "outputs": [
    {
     "name": "stdout",
     "output_type": "stream",
     "text": [
      "Moda = 1\n",
      "Valores obtenidos: [ 1  2  3  4  5  6  7  8  9 10 11 12 13 14]\n",
      "Cantidad de valores obtenidos diferentes: 14\n",
      "D2 = 36684.0724\n"
     ]
    }
   ],
   "source": [
    "nums8 = list()\n",
    "n = 10000\n",
    "\n",
    "for i in range(0,n):\n",
    "    nums8.insert(i,np.random.geometric(0.5))\n",
    "\n",
    "d2 = 0\n",
    "\n",
    "valores, ocurrencias = np.unique(nums8, return_counts=True)\n",
    "\n",
    "print('Moda = ' + str(st.mode(nums8)[0][0]))\n",
    "\n",
    "k = len(valores) #CANTIDAD DE VALORES DIFERENTES \n",
    "pi = 1/k #PROBABILIDAD ESPERADA\n",
    "\n",
    "for i in range(0,k):\n",
    "    d2 += ((ocurrencias[i] - n*(pi))**2)/(n*(pi))\n",
    "\n",
    "print('Valores obtenidos: ' + str(valores))\n",
    "print('Cantidad de valores obtenidos diferentes: ' + str(k))\n",
    "print('D2 = ' + str(d2))"
   ]
  },
  {
   "cell_type": "code",
   "execution_count": 27,
   "metadata": {},
   "outputs": [
    {
     "data": {
      "text/html": [
       "<iframe id=\"igraph\" scrolling=\"no\" style=\"border:none;\" seamless=\"seamless\" src=\"https://plot.ly/~mfprado/10.embed\" height=\"525px\" width=\"100%\"></iframe>"
      ],
      "text/plain": [
       "<plotly.tools.PlotlyDisplay object>"
      ]
     },
     "execution_count": 27,
     "metadata": {},
     "output_type": "execute_result"
    }
   ],
   "source": [
    "data = [go.Histogram(x=nums8)]\n",
    "layout = go.Layout(\n",
    "    title='Distribución de los numeros aleatorios obtenidos',\n",
    "    xaxis=dict(\n",
    "        title='Numeros obtenidos'\n",
    "    ),\n",
    "    yaxis=dict(\n",
    "        title='Cantidad de apariciones'\n",
    "    ),\n",
    "    bargap=0.2,\n",
    "    bargroupgap=0.1\n",
    ")\n",
    "fig = go.Figure(data=data, layout=layout)\n",
    "py.iplot(fig, filename='styled histogram')"
   ]
  },
  {
   "cell_type": "markdown",
   "metadata": {},
   "source": [
    "Primero medimos la dispersión de las ocurrencias observadas $N_{i}$ respecto de las esperadas ( $np_{i}$ ):\n",
    "\n",
    "<h3 align=\"center\">$\n",
    "D^{2} = \\sum_{k=1}^{K-1}\\frac {(N_{i} - np_{i})^{2}}{np_{i}}\n",
    "$</h3> \n",
    "\n",
    "\n",
    "**Pearson** (1900) demostró que $D^{2}$ responde a una distribución de tipo $Chi^{2}$, por lo tanto, encontramos $\\textbf{t}$ tal que  $P(D^{2} > t) = \\alpha$  y aceptamos la hipótesis siempre que $D^{2} < t$.\n",
    "\n",
    "Encontramos que nuestro $D^{2} = 36684.0724$  .\n",
    "\n",
    "Con un nivel de significancia de $1\\%$, $\\alpha = 0.01$, y una cantidad de diferentes valores k, $k=14$, buscamos en la tabla $Chi^{2}$ guiándonos por  $\\alpha = 0.01$ y grados de libertad  $v = k-1 = 13 $,  tenemos  $t = 27.7$.\n",
    "\n",
    "Como $D^{2} > t$, entonces **rechazamos la hipótesis** diciendo que los datos no responden a una distribución uniforme, considerando un error del $1\\%$."
   ]
  },
  {
   "cell_type": "markdown",
   "metadata": {},
   "source": [
    "#### Ejercicio 9\n",
    "Al generador congruencial lineal implementado en el ejercicio 1 realizarle un gap test para los siguientes intervalos:\n",
    "\n",
    "| Intervalo 1 | Intervalo 2  |\n",
    "|--|\n",
    "| 0.2 - 0.6 | 0.5 - 1|\n",
    "\n",
    "Analizar los resultados con un nivel de significación del 5%."
   ]
  },
  {
   "cell_type": "code",
   "execution_count": null,
   "metadata": {},
   "outputs": [],
   "source": []
  },
  {
   "cell_type": "markdown",
   "metadata": {},
   "source": [
    "Gap Test: Siendo Ui un número aleatorio con distribución uniforme en un rango [0,1] y 0<=α < β <= 1. Este test consiste en contar la cantidad de números aleatorios generados de forma consecutiva entre la generación de un número que pertenece al intervalo [α,β] y el próximo número generado que vuelve a pertenecer al intervalo."
   ]
  },
  {
   "cell_type": "markdown",
   "metadata": {},
   "source": [
    "#### Ejercicio 10\n",
    "Aplicar el test de Kolmogorov-Smirnov al generador de números al azar con distribución normal generado en el ejercicio 4, y analizar el resultado del mismo para un nivel de significación 0,01.\n",
    "\n",
    "Graficar la distribución acumulada real versus la distribución empírica."
   ]
  },
  {
   "cell_type": "code",
   "execution_count": 28,
   "metadata": {},
   "outputs": [],
   "source": [
    "nums10 = list()\n",
    "for i in range(0,100000):\n",
    "    nums10.insert(i,np.random.geometric(0.5))"
   ]
  },
  {
   "cell_type": "code",
   "execution_count": 29,
   "metadata": {},
   "outputs": [
    {
     "data": {
      "text/html": [
       "<iframe id=\"igraph\" scrolling=\"no\" style=\"border:none;\" seamless=\"seamless\" src=\"https://plot.ly/~mfprado/10.embed\" height=\"525px\" width=\"100%\"></iframe>"
      ],
      "text/plain": [
       "<plotly.tools.PlotlyDisplay object>"
      ]
     },
     "execution_count": 29,
     "metadata": {},
     "output_type": "execute_result"
    }
   ],
   "source": [
    "data = [go.Histogram(x=nums10)]\n",
    "layout = go.Layout(\n",
    "    title='Distribución de los numeros aleatorios obtenidos',\n",
    "    xaxis=dict(\n",
    "        title='Numeros obtenidos'\n",
    "    ),\n",
    "    yaxis=dict(\n",
    "        title='Cantidad de apariciones'\n",
    "    ),\n",
    "    bargap=0.2,\n",
    "    bargroupgap=0.1\n",
    ")\n",
    "fig = go.Figure(data=data, layout=layout)\n",
    "py.iplot(fig, filename='styled histogram')"
   ]
  },
  {
   "cell_type": "code",
   "execution_count": null,
   "metadata": {},
   "outputs": [],
   "source": []
  },
  {
   "cell_type": "code",
   "execution_count": null,
   "metadata": {},
   "outputs": [],
   "source": []
  }
 ],
 "metadata": {
  "kernelspec": {
   "display_name": "Python 3",
   "language": "python",
   "name": "python3"
  },
  "language_info": {
   "codemirror_mode": {
    "name": "ipython",
    "version": 3
   },
   "file_extension": ".py",
   "mimetype": "text/x-python",
   "name": "python",
   "nbconvert_exporter": "python",
   "pygments_lexer": "ipython3",
   "version": "3.6.4"
  }
 },
 "nbformat": 4,
 "nbformat_minor": 2
}
