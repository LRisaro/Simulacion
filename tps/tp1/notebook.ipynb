{
 "cells": [
  {
   "cell_type": "code",
   "execution_count": 67,
   "metadata": {},
   "outputs": [],
   "source": [
    "import matplotlib.pyplot as plt\n",
    "import pandas as pd\n",
    "import numpy as np\n",
    "\n",
    "from math import log, sqrt, exp, pi, cos\n",
    "from scipy import stats as st\n",
    "import seaborn as sns\n",
    "sns.set(color_codes=True)\n",
    "sns.set_palette(sns.color_palette(\"Set2\"))\n",
    "sns.set(rc={'figure.figsize':(10,8)}, style=\"white\", color_codes=True)\n",
    "\n",
    "\n",
    "import warnings\n",
    "warnings.filterwarnings(\"ignore\")\n",
    "#Si no tienen la libreria seaborn http://seaborn.pydata.org/installing.html"
   ]
  },
  {
   "cell_type": "markdown",
   "metadata": {},
   "source": [
    "# Trabajo Prático 1"
   ]
  },
  {
   "cell_type": "markdown",
   "metadata": {},
   "source": [
    "### Ejercicio 1\n",
    "Utilizando Matlab, Octave o Python implementar un Generador Congruencial Lineal (GCL) de módulo \n",
    "$2^{32}$ , multiplicador 1013904223, incremento de 1664525 y semilla igual a la parte entera del promedio de los números de padrón de los integrantes del grupo.\n",
    "* Informar los primeros 6 números al azar de la secuencia.\n",
    "* Modificar el GCL para que devuelva números al azar entre 0 y 1, y realizar un histograma sobre 100.000\n",
    "valores generados."
   ]
  },
  {
   "cell_type": "code",
   "execution_count": 2,
   "metadata": {},
   "source": [
    "m = 2**32 \n",
    "a = 1013904223\n",
    "c = 1664525\n",
    "seed = int((94335 + 93784 + 96626)/3)\n",
    "\n",
    "# Método Lineal Congruente [Lehmer, 1949]\n",
    "#U(n) = (a*U(n-1) + c) mod m\n",
    "\n",
    "Un = {}\n",
    "Un[0] = seed\n",
    "\n",
    "def U(n):\n",
    "    if (n in Un) :\n",
    "        return Un[n]\n",
    "    else:\n",
    "        Un[n] = (a*U(n-1) + c) % m\n",
    "        return Un[n]\n",
    "\n",
    "# Primeros 6 Números Aleatorios\n",
    "for i in range(1,7):\n",
    "    print(U(i))"
  ],"outputs": [],
  },
  {
   "cell_type": "code",
   "execution_count": 3,
   "metadata": {},
   "outputs": [],
   "source": [
    "#100.000 valores random generados entre 0 y 1\n",
    "randomNums1 = list()\n",
    "for i in range(0,100000):\n",
    "    x = U(i+1)\n",
    "    randomNums1.insert(i,x/m)"
   ]
  },
  {
   "cell_type": "code",
   "execution_count": 4,
   "metadata": {},
   "source": [
    "plt.xlabel('Números observados')\n",
    "plt.ylabel('Cantidad de apariciones')\n",
    "plt.title('Histograma')\n",
    "\n",
    "sns.distplot(randomNums1,  kde=False,  hist_kws={'edgecolor':'black', 'alpha':1})\n",
    "sns.set(style=\"white\", context=\"talk\")"
  ],"outputs": []
  },
  {
   "cell_type": "code",
   "execution_count": 5,
   "metadata": {},
   "source": [
    "plt.xlabel('Números observados')\n",
    "\n",
    "sns.distplot(randomNums1,  hist_kws={'edgecolor':'black', 'alpha':1})\n",
    "sns.set(style=\"white\", context=\"talk\")"
  ],"outputs": []
  },
  {
   "cell_type": "markdown",
   "metadata": {},
   "source": [
    "### Ejercicio 2\n",
    "Utilizando el generador de números aleatorios con distribución uniforme [0,1] implementado en el ejercicio 1 y utilizando el método de la transformada inversa genere números pseudoaleatorios con distribución exponencial negativa de media 15.\n",
    "* Realizar un histograma de 100.000 valores obtenidos.\n",
    "* Calcular la media, varianza y moda de la distribución obtenida y compararlos con los valores teóricos."
   ]
  },
  {
   "cell_type": "markdown",
   "metadata": {},
   "source": [
    "#### Vamos a generar una variable X con Distribución Exponencial a partir de una variable U Uniforme con el Método de la Transformada Inversa\n",
    "---\n",
    "La distribución exponencial es una distribución de probabilidad continua con un parámetro \n",
    "$λ>0$\n",
    " cuya **Función de Densidad** es:\n",
    "$f(x)= P(x)=\\left\\{\\begin{matrix}\n",
    "  \\lambda e^{-\\lambda x} & \\quad \\text{para } x \\ge 0 \\\\\n",
    "  0 & \\quad \\text{en caso contrario}\n",
    "  \\end{matrix}\\right.$\n",
    "  \n",
    "Y su **Función Acumulativa de Probabilidad** es:\n",
    "\n",
    "$  F(x)= P(X \\le x)=\\left\\{\\begin{matrix}\n",
    "  0 & \\text{para }x < 0 \\\\\n",
    "  1-e^{-\\lambda x} & \\text{para }x \\ge 0\n",
    "  \\end{matrix}\\right.$\n",
    "  \n",
    "La **Media** se puede calcular como:\n",
    "  \n",
    " $E[X]=\\frac{1}{\\lambda}$\n",
    " \n",
    "y la **Varianza** como:\n",
    " \n",
    "$ V[X]=\\frac{1}{\\lambda^2}$\n",
    "\n",
    "en cuanto la **Moda** para una distribución exponencial siempre es 0.\n",
    "\n",
    "La **Transformada Inversa** se define como:\n",
    "\n",
    "$X = F_{x}^{-1}(U) = - \\frac{1}{\\lambda}ln(1-U)$\n",
    "\n",
    "entendiendo a $X$ como la variable con Distribución Exponencial generada a partir de la uniforme $U$\n",
    "\n",
    "$U   \\underrightarrow{ \\quad{F_{x}^{-1}} \\quad}   X$"
   ]
  },
  {
   "cell_type": "code",
   "execution_count": 6,
   "metadata": {},
   "source": [
    "alpha = 1/15\n",
    "numsExp2 = list()\n",
    "X = 0\n",
    "n = 100000 #100.000 muestras\n",
    "\n",
    "for i in range(0,n):\n",
    "    X = (log(1-(randomNums1[i]))*1/alpha)*(-1)\n",
    "    numsExp2.insert(i,X)\n",
    "\n",
    "unique, counts = np.unique(numsExp2, return_counts=True)\n",
    "\n",
    "print('Varianza = ' + str(np.var(numsExp2)))\n",
    "print('Media = ' + str(np.median(numsExp2)))\n",
    "print('Moda = ' + str(st.mode(numsExp2)[0][0]))"
  ],"outputs": []
  },
  {
   "cell_type": "code",
   "execution_count": 7,
   "metadata": {
    "scrolled": false
   },"outputs": [],
   "source": [
    "plt.xlabel('Números observados')\n",
    "plt.ylabel('Cantidad de apariciones')\n",
    "\n",
    "sns.distplot(numsExp2, kde=False,  hist_kws={'edgecolor':'black', 'alpha':1})\n",
    "sns.set(style=\"white\", context=\"talk\")"
   ]
  },
  {
   "cell_type": "markdown",
   "metadata": {},
   "source": [
    " Para el caso que estamos estudiando: \n",
    " \n",
    " $λ = 1/15$\n",
    " \n",
    " Por lo que teóricamente \n",
    " \n",
    " $E[X] = 15,\\qquad V[X] = 225,\\qquad Moda=0$\n",
    " \n",
    " La media,varianza y moda obtenidas fueron:\n",
    " \n",
    " $E[X] = 10.379580021900171,\\qquad V[X] = 225.9273005825936,\\qquad Moda = 8.081553818275827e-06$\n",
    "\n"
   ]
  },
  {
   "cell_type": "markdown",
   "metadata": {},
   "source": [
    "### Ejercicio 3\n",
    "Utilizando el generador de números aleatorios con distribución uniforme [0,1] implementado en el ejercicio 1 genere números pseudoaleatorios con distribución Normal Standard utilizando el método de la transformada inversa (realizando un muestreo de función de distribución acumulada e interpolándolos linealmente).\n",
    "* Realizar un histograma de 100.000 valores obtenidos.\n",
    "* Calcular la media, varianza y moda de la distribución obtenida y compararlos con los valores teóricos.\n"
   ]
  },
  {
   "cell_type": "markdown",
   "metadata": {},
   "source": [
    "Una **variable aleatoria continua**, $X$, sigue una **Distribución Normal** de media $\\mu$ y desviación típica $\\sigma$, y se designa por $N(\\mu, \\sigma)$, si se cumplen las siguientes condiciones:\n",
    "1. La variable puede tomar cualquier valor: $(-∞, +∞)$\n",
    "2. La **función de densidad**, es la expresión en términos de ecuación matemática de la curva de **Gauss**:\n",
    "\n",
    "$f(x) = P(x) = \\frac {1} {\\sigma\\sqrt{2\\pi}} \\mathrm{e}^{-\\frac {1}{2} (\\frac {x- \\mu}{\\sigma})^{2}  }$\n",
    "\n",
    "La distribución normal estándar es aquella que tiene por media el valor cero, $\\mu = 0$, y por desviación típica la unidad, $\\sigma =1$. Por lo que su **función densidad** es:\n",
    "\n",
    "$f(x) = P(x) = \\frac {1} {\\sqrt{2\\pi}} \\mathrm{e}^{-\\frac {x^{2}}{2}   }$\n",
    "\n",
    "La **Transformada Inversa** se define como:\n",
    "\n",
    "$$\n",
    "\n",
    "\n",
    "entendiendo a $X$ como la variable con Distribución Normal Estándar generada a partir de la uniforme $U$\n",
    "\n",
    "$U   \\underrightarrow{ \\quad{F_{x}^{-1}} \\quad}   X$"
   ]
  },
  {
   "cell_type": "code",
   "execution_count": 16,
   "metadata": {},
   "outputs": [],
   "source": [
    "n = 100000\n",
    "def fNormalEstandar(x):\n",
    "    return ((sqrt((2*pi)))**-1) * exp(x**2/-2)\n",
    "\n",
    "def vNormal(u1, u2):\n",
    "    return sqrt(-2*log(u1))*cos(u2)\n",
    "\n",
    "for i in range(0, 10):\n",
    "    u1 = Un[i]\n",
    "    u2 = Un[i+1]\n",
    "    z1 = vNormal(u1/m, u2/m)\n",
    "    print('Generated u1 = ', u1/m)\n",
    "    print('Generated u2 = ', u2/m)\n",
    "    print('Generated z1 = ' + str(z1) + '\\n')\n"
   ]
  },
  {
   "cell_type": "code",
   "execution_count": null,
   "metadata": {},
   "outputs": [],
   "source": []
  },
  {
   "cell_type": "markdown",
   "metadata": {},
   "source": [
    "Los valores teóricos para una Distribución Normal Standard son: \n",
    "\n",
    "$E[x]= 0,\\qquad V[x]= \\sigma ^{2} = 1  ,\\qquad Moda=0$ \n",
    "\n",
    "Los valores obtenidos son: \n",
    "\n",
    "$E[x]= ,\\qquad V[x]= ,\\qquad Moda=$ \n",
    "\n"
   ]
  },
  {
   "cell_type": "markdown",
   "metadata": {},
   "source": [
    "### Ejercicio 4\n",
    "Genere 100.000 números aleatorios con distribución Normal de media 35 y desvío estándar 5 utilizando el algoritmo de Aceptación y Rechazo.\n",
    "* Realizar un histograma con todos los valores obtenidos.\n",
    "* Comparar, en el mismo gráfico, el histograma realizado en el punto anterior con la distribución normal brindada por Matlab u Octave.\n",
    "* Calcular la media, varianza y moda de la distribución obtenida y compararlos con los valores teóricos."
   ]
  },
  {
   "cell_type": "code",
   "execution_count": 19,
   "metadata": {},
   "outputs": [
    {
     "name": "stdout",
     "output_type": "stream",
     "text": [
      "Porcentaje de rechazo = 1e-05\n",
      "Varianza = 1.9862812632103217\n",
      "Media = 0.0067332102065634425\n",
      "Moda = -10.516038948222015\n"
     ]
    }
   ],
   "source": [
    "c = sqrt((2*exp(1)/pi))\n",
    "\n",
    "#N MUESTRAS EXPONENCIALES DE MEDIA 1\n",
    "n = 100000\n",
    "numsExp4 = list()\n",
    "probabilidadDeAceptar = list()\n",
    "numsGauss = list() #VALORES ACEPTADOS COMO GAUSSIANOS\n",
    "\n",
    "#NORMAL DE MEDIA 35 Y VARIANZA 25\n",
    "def normal(x):\n",
    "    return ((exp(-0.5*(((x-35)/5)**2)))/sqrt(50*pi))\n",
    "\n",
    "#PROBABILIDAD DE ACPTAR EL VALOR GENERADO\n",
    "def prob(x):\n",
    "    return (normal(x)/(c*exp(-x)))\n",
    "\n",
    "#MUESTRAS DE EXPONENCIALES DE MEDIA 1 Y SE GENERA UN VECTOR DE PROBABILIDADES\n",
    "#DE ACEPTAR CADA VALOR GENERADO\n",
    "for i in range(0,n):\n",
    "    t = np.random.exponential(1)\n",
    "    numsExp4.insert(i, t)\n",
    "    probabilidadDeAceptar.insert(i,prob(t))\n",
    "\n",
    "for i in range(0,n):\n",
    "    r = np.random.uniform()\n",
    "\n",
    "    if r > probabilidadDeAceptar[i]:\n",
    "        r2 = np.random.uniform()\n",
    "        if r2 < 0.5:\n",
    "            numsGauss.insert(i,numsExp4[i])\n",
    "        else:\n",
    "            numsGauss.insert(i,numsExp4[i]*(-1))\n",
    "\n",
    "print('Porcentaje de rechazo = ' + str((n-len(numsGauss))/n))\n",
    "print('Varianza = ' + str(np.var(numsGauss)))\n",
    "print('Media = ' + str(np.median(numsGauss)))\n",
    "print('Moda = ' + str(st.mode(numsGauss)[0][0]))"
   ]
  },
  {
   "cell_type": "code",
   "execution_count": 20,
   "metadata": {},
   "source": [
    "plt.xlabel('Números observados')\n",
    "plt.ylabel('Cantidad de apariciones')\n",
    "\n",
    "sns.distplot(numsGauss, kde=False,  hist_kws={'edgecolor':'black', 'alpha':1})\n",
    "sns.set(style=\"white\", context=\"talk\")"
  ],
  "outputs": [],
  },
  {
   "cell_type": "markdown",
   "metadata": {},
   "source": [
    "\n",
    "Comparar, en el mismo gráfico, el histograma realizado en el punto anterior con la distribución normal brindada por Matlab u Octave."
   ]
  },
  {
   "cell_type": "markdown",
   "metadata": {},
   "source": [
    "Los valores teóricos son: \n",
    "\n",
    "$E[x]= ,\\qquad V[x]= ,\\qquad Moda=$ \n",
    "\n",
    "Los valores obtenidos son: \n",
    "\n",
    "$E[x]= ,\\qquad V[x]= ,\\qquad Moda=$ \n"
   ]
  },
  {
   "cell_type": "markdown",
   "metadata": {},
   "source": [
    "### Ejercicio 5\n",
    "Utilizando el método de la transformada inversa y utilizando el generador de números aleatorios implementado en el ejercicio 1 genere números aleatorios siguiendo la siguiente función de distribución de probabilidad empírica.\n",
    "\n",
    "| Probabilidad | Valor generado |\n",
    "| --- | --- |\n",
    "| 0.5 | 1 |\n",
    "| 0.2 | 2 |\n",
    "| 0.1 | 3 |\n",
    "| 0.2 | 4 |\n"
   ]
  },
  {
   "cell_type": "code",
   "execution_count": 21,
   "metadata": {},
   "outputs": [],
   "source": [
    "def transformadaInversa(u):\n",
    "  if (u <= .5):\n",
    "    return 1\n",
    "  elif (u > .5 and u <= .7):\n",
    "    return 2\n",
    "  elif (u > .7 and u <= .8):\n",
    "    return 3\n",
    "  elif (u > .8 and u <= 1):\n",
    "    return 4\n",
    "\n",
    "nums5 = list()\n",
    "for i in range(100000):\n",
    "    nums5.append(transformadaInversa(Un[i]/m))"
   ]
  },
  {
   "cell_type": "code",
   "execution_count": 22,
   "metadata": {},
   "outputs": [],
   "source": [
    "plt.xlabel('Números observados - (1,2,3,4)')\n",
    "plt.ylabel('Cantidad de apariciones')\n",
    "sns.distplot(nums5,  kde=False, bins=4,\n",
    "                  hist_kws={'edgecolor':'black', 'alpha':1})\n",
    "sns.set(style=\"white\")"
   ]
  },
  {
   "cell_type": "markdown",
   "metadata": {},
   "source": [
    "En el gráfico anterior se puede distinguir el comportamiento esperado. \n",
    "Tomamos 100k muestras en las cuales, aproximadamente obtuvimos:\n",
    "\n",
    "1 en 50k muestras$  ,\\qquad P(1) \\approx 0.5$.\n",
    "\n",
    "2 en 20k muestras  $  ,\\qquad P(2) \\approx 0.2$.\n",
    "\n",
    "3 en 10k muestras  $  ,\\qquad P(3) \\approx 0.1$.\n",
    "\n",
    "4 en 20k muestras  $  ,\\qquad P(4) \\approx 0.2$."
   ]
  },
  {
   "cell_type": "markdown",
   "metadata": {},
   "source": [
    "### Ejercicio 6\n",
    "Considerar el siguiente experimento:\n",
    "Lanzar una moneda tantas veces como sea necesario hasta obtener cara.\n",
    "Realizar el experimento 10000 veces indicando:\n",
    "* ¿A qué tipo de proceso corresponde cada uno de los lanzamientos?\n",
    "* Con qué distribución conocida se puede modelar cada uno de los experimentos.\n",
    "* Realizar un histograma mostrando la distribución obtenida"
   ]
  },
  {
   "cell_type": "markdown",
   "metadata": {},
   "source": [
    "(a) Cada uno de los lanzamientos corresponde a un proceso de Bernoulli dicotomico donde los unicos resultados    posibles son éxito o fracaso, en este caso el éxito es obtener cara y el fracaso ceca.\n",
    "\n",
    "(b) El experimento de arrojar una moneda n veces hasta obtener cara corresponde a una distribucion Geometrica la cual indica el numero de experimentos, en este caso lanzamientos, hasta obtener  el primer éxito, sacar cara."
   ]
  },
  {
   "cell_type": "code",
   "execution_count": 23,
   "metadata": {},
   "outputs": [],
   "source": [
    "nums6 = list()\n",
    "for i in range(0,10000):\n",
    "    nums6.insert(i,np.random.geometric(0.5))"
   ]
  },
  {
   "cell_type": "code",
   "execution_count": 49,
   "metadata": {},
   "outputs": [],
   "source": [
    "plt.title('Hstograma de la distribucion Geometrica realizando 10000 experimentos',fontsize = 16)\n",
    "plt.xlabel('Números observados')\n",
    "plt.ylabel('Cantidad de apariciones')\n",
    "\n",
    "sns.distplot(nums6, kde=False, bins=13, hist_kws={'edgecolor':'black', 'alpha':1})\n",
    "sns.set(style=\"white\", context=\"talk\")"
   ]
  },
  {
   "cell_type": "markdown",
   "metadata": {},
   "source": [
    "Cada uno de los lanzamientos corresponde al tipo de proceso uniforme.\n",
    "\n",
    "Cada uno de los experimentos se pueden modelar con una distribución geométrica. La distribución geométrica es un modelo adecuado para aquellos procesos en los que se repiten pruebas hasta la consecución del éxito."
   ]
  },
  {
   "cell_type": "markdown",
   "metadata": {},
   "source": [
    "### Ejercicio 7\n",
    "Realizar, sólo gráficamente, un test espectral en 2 y 3 dimensiones al generador conguencial lineal implementado en el ejercicio 1. ¿Cómo se distribuyen espacialmente los puntos obtenidos?"
   ]
  },
  {
   "cell_type": "code",
   "execution_count": 25,
   "metadata": {},
   "outputs": [],
   "source": [
    "xs = []\n",
    "ys = []\n",
    "for i in range(0,100000-1):\n",
    "    xs.append(Un[i]/m)\n",
    "    ys.append(Un[i+1]/m)\n",
    "\n",
    "xs3d = []\n",
    "ys3d = []\n",
    "zs3d = []\n",
    "for i in range(0,100000-2):\n",
    "    xs3d.append(Un[i]/m)\n",
    "    ys3d.append(Un[i+1]/m)\n",
    "    zs3d.append(Un[i+2]/m)"
   ]
  },
  {
   "cell_type": "code",
   "execution_count": 50,
   "metadata": {},
   "outputs": [],
   "source": [
    "df=pd.DataFrame({'x': xs, 'y': ys })\n",
    "sns.lmplot('x', \n",
    "           'y', \n",
    "           data=df,\n",
    "           size=10, scatter_kws={\"marker\": \"D\", \"s\": 2}\n",
    "          )\n",
    "\n",
    "plt.title(\"Test espectral en 2 dimensiones\");"
   ]
  },
  {
   "cell_type": "code",
   "execution_count": 27,
   "outputs": [],
   "metadata": {},
   "source": [
    "from mpl_toolkits.mplot3d import Axes3D\n",
    "\n",
    "df=pd.DataFrame({'X': xs3d, 'Y': ys3d, 'Z': zs3d})\n",
    " \n",
    "fig = plt.figure()\n",
    "ax = fig.add_subplot(111, projection='3d')\n",
    "ax.scatter(df['X'], df['Y'], df['Z'],  s=2)\n",
    "plt.title(\"Test espectral en 3 dimensiones\")\n",
    "plt.show()"
   ]
  },
  {
   "cell_type": "code",
   "execution_count": 51,
   "outputs": [],
   "metadata": {},
   "source": [
    "sns.jointplot(np.array(xs),  np.array(ys), kind=\"hex\", size=10).set_axis_labels(\"x\", \"y\");"
   ]
  },
  {
   "cell_type": "code",
   "execution_count": 52,
   "metadata": {},
   "outputs": [],
   "source": [
    "sns.distplot(nums6,  kde=False, bins=13,\n",
    "                  hist_kws={'edgecolor':'black', 'alpha':1})\n",
    "sns.set(style=\"white\")"
   ]
  },
  {
   "cell_type": "markdown",
   "metadata": {},
   "source": [
    "El Test Estadístico $Chi^{2}$ se aplica cuando tenemos una muestra de una variable aleatoria discreta finita y queremos evaluar si responde a una determinada distribución de probabilidad teórica.\n",
    "\n",
    "En este caso vamos a ver si responde a una distribución geométrica que es lo que se modeló en el ejercicio 6.\n",
    "\n",
    "Primero medimos la dispersión de las ocurrencias observadas $N_{i}$ respecto de las esperadas ( $np_{i}$ ):\n",
    "\n",
    "<h3 align=\"center\">$\n",
    "D^{2} = \\sum_{k=1}^{K-1}\\frac {(N_{i} - np_{i})^{2}}{np_{i}}\n",
    "$</h3> \n",
    "\n",
    "\n",
    "**Pearson** (1900) demostró que $D^{2}$ responde a una distribución de tipo $Chi^{2}$, por lo tanto, encontramos $\\textbf{t}$ tal que  $P(D^{2} > t) = \\alpha$  y aceptamos la hipótesis siempre que $D^{2} < t$.\n",
    "\n",
    "Encontramos que nuestro $D^{2} = 33099.901$  .\n",
    "\n",
    "Con un nivel de significación de $1\\%$, $\\alpha = 0.01$, y una cantidad de diferentes valores k, $k=13$, buscamos en la tabla $Chi^{2}$ guiándonos por  $\\alpha = 0.01$ y grados de libertad  $v = k-1 = 12 $,  tenemos  $t = 26.2$.\n",
    "\n",
    "Como $D^{2} > t$, entonces **rechazamos la hipótesis** diciendo que los datos no responden a una distribución geométrica, considerando un error del $1\\%$."
   ]
  },
  {
   "cell_type": "markdown",
   "metadata": {},
   "source": [
    "![Tabla Chi2](chi2.png)"
   ]
  },
  {
   "cell_type": "markdown",
   "metadata": {},
   "source": [
    "### Ejercicio 9\n",
    "Al generador congruencial lineal implementado en el ejercicio 1 realizarle un gap test para los siguientes intervalos:\n",
    "\n",
    "| Intervalo 1 | Intervalo 2  |\n",
    "|--|\n",
    "| 0.2 - 0.6 | 0.5 - 1|\n",
    "\n",
    "Analizar los resultados con un nivel de significación del 5%."
   ]
  },
  {
   "cell_type": "markdown",
   "metadata": {},
   "source": [
    "Gap Test: Siendo Ui un número aleatorio con distribución uniforme en un rango [0,1] y 0<=α < β <= 1. Este test consiste en contar la cantidad de números aleatorios generados de forma consecutiva entre la generación de un número que pertenece al intervalo [α,β] y el próximo número generado que vuelve a pertenecer al intervalo.\n",
    "\n",
    "Entendemos como gap al espacio entre dos apariciones consecutivas de números pertenecientes al intervalo $[\\alpha, \\beta]$.\n",
    "\n",
    "La probabilidad teórica de apariciones de tamaño de gaps es:\n",
    "\n",
    "$P(tamañoDeGap = 0) = p = \\beta - \\alpha $ \n",
    "\n",
    "$P(tamañoDeGap = 1) = p(1-p)$\n",
    "\n",
    "...\n",
    "\n",
    "$P(tamañoDeGap = t) = p(1-p)ˆt$\n",
    "\n",
    "La distribución de frecuencia teórica es:\n",
    "\n",
    "$ P(tamañoDeGap \\leq t) = F(t) = p\\sum_{n=1}^{t} (1-p)^{n} = 1-(1-p)^{t+1}$\n",
    "\n",
    "\n"
   ]
  },
  {
   "cell_type": "markdown",
   "metadata": {},
   "source": [
    "Tomamos:\n",
    "\n",
    "$\\alpha=0.2,\\qquad  \\beta=0.6$\n",
    "\n",
    "y queremos analizar un total de 100 gaps."
   ]
  },
  {
   "cell_type": "code",
   "execution_count": 32,
   "metadata": {
    "scrolled": true
   },
   "outputs": [],
   "source": [
    "def perteneceAlIntervalo(num, alpha, beta):\n",
    "    return (num>=alpha and num<=beta)\n",
    "\n",
    "def encontrarGaps(n, alpha, beta):\n",
    "    oneSeen = False\n",
    "    gapTamanio = 0\n",
    "    gaps = list()\n",
    "    i=0\n",
    "    while(len(gaps) <= 100):\n",
    "        if(not perteneceAlIntervalo(Un[i]/m, alpha, beta)): \n",
    "            gapTamanio+=1\n",
    "        if (perteneceAlIntervalo(Un[i]/m, alpha, beta) and oneSeen == 0):\n",
    "            oneSeen = True\n",
    "        if (perteneceAlIntervalo(Un[i]/m, alpha, beta) and oneSeen):\n",
    "            gaps.append(gapTamanio)            \n",
    "            if (not perteneceAlIntervalo(Un[i-1]/m, alpha, beta)):\n",
    "                gapTamanio = 0\n",
    "        i+=1\n",
    "    gaps = gaps[1:] \n",
    "    return gaps\n",
    "\n",
    "gaps = encontrarGaps(100,0.2,0.6)\n",
    "tamaniosGaps, ocurrencias = np.unique(gaps, return_counts=True) \n",
    "\n",
    "print(\"Gaps encontrados: \" +  str(len(gaps)))\n",
    "print(\"Tipos de gaps encontrados: \"+ str(len(tamaniosGaps)))\n",
    "print(tamaniosGaps)\n",
    "print(\"Frecuencia: \")\n",
    "print(ocurrencias)"
   ]
  },
  {
   "cell_type": "markdown",
   "metadata": {},
   "source": [
    "Para 100 gaps encontrados:\n",
    "\n",
    "| Tamaño de gap | Apariciones  | Probabilidad Obtenida | Probabilidad Teórica \n",
    "|--|\n",
    "| 0 | 36| 0.36 |0.4|\n",
    "| 1 | 29| 0.29|0.24|\n",
    "| 2 | 14 | 0.14|0.144|\n",
    "| 3 | 10| 0.1|0.0864|\n",
    "| 4 | 6| 0.06|0.0518|\n",
    "| 5 | 2| 0.02|0.0311|\n",
    "| 6 | 1| 0.01|0.0187|\n",
    "| 7 | 1| 0.01|0.0112|\n",
    "| 10 | 1| 0.01|0.0024|\n",
    "\n",
    "Ahora realizamos el test Chi 2 para los datos obtenidos en el gap test:\n",
    "\n",
    "Primero medimos la dispersión de las ocurrencias observadas $N_{i}$ respecto de las esperadas ( $np_{i}$ ):\n",
    "\n",
    "<h3 align=\"center\">$\n",
    "D^{2} = \\sum_{k=1}^{K-1}\\frac {(N_{i} - np_{i})^{2}}{np_{i}}\n",
    "$</h3> \n",
    "\n"
   ]
  },
  {
   "cell_type": "code",
   "execution_count": 33,
   "metadata": {},
   "outputs": []
    }
   ],
   "source": [
    "d2 = 0\n",
    "tamanioFrecuencia = dict(zip(tamaniosGaps, ocurrencias)) \n",
    "pi = {0 : 0.4,\n",
    "      1 : 0.24,\n",
    "      2 : 0.144,\n",
    "      3 : 0.0864,\n",
    "      4 : 0.0518,\n",
    "      5 : 0.0311,\n",
    "      6 : 0.0187,\n",
    "      7 : 0.0112,\n",
    "      10 : 0.0024}\n",
    "n = 100\n",
    "\n",
    "for key in tamanioFrecuencia:\n",
    "    d2 += ((tamanioFrecuencia[key] - n*(pi[key]))**2)/(n*(pi[key]))\n",
    "\n",
    "print('D2 = ' + str(d2))"
   ]
  },
  {
   "cell_type": "markdown",
   "metadata": {},
   "source": [
    "Siguiendo lo desarrollado en el ejercicio 8\n",
    "\n",
    "Encontramos que nuestro $D^{2} = 5.017115602911896$  .\n",
    "\n",
    "Con un nivel de significación del $5\\%$, $\\alpha = 0.05$, y una cantidad de diferentes valores k, $k=9$, buscamos en la tabla $Chi^{2}$ guiándonos por  $\\alpha = 0.05$ y grados de libertad  $v = k-1 = 8 $,  tenemos  $t = 2,7$.\n",
    "\n",
    "Como $D^{2} > t$, entonces **rechazamos la hipótesis** diciendo que los datos no responden a una distribución uniforme, considerando un error del $5\\%$."
   ]
  },
  {
   "cell_type": "markdown",
   "metadata": {},
   "source": [
    "Tomamos:\n",
    "\n",
    "$\\alpha=0.5,\\qquad  \\beta=1$\n",
    "\n",
    "y queremos analizar un total de 100 gaps."
   ]
  },
  {
   "cell_type": "code",
   "execution_count": 34,
   "metadata": {},
   "outputs": []
    }
   ],
   "source": [
    "gaps = encontrarGaps(100,0.5,1)\n",
    "tamaniosGaps, ocurrencias = np.unique(gaps, return_counts=True) \n",
    "\n",
    "print(\"Gaps encontrados: \" +  str(len(gaps)))\n",
    "print(\"Tipos de gaps encontrados: \"+ str(len(tamaniosGaps)))\n",
    "print(tamaniosGaps)\n",
    "print(\"Frecuencia: \")\n",
    "print(ocurrencias)"
   ]
  },
  {
   "cell_type": "markdown",
   "metadata": {},
   "source": [
    "Para 100 gaps encontrados:\n",
    "\n",
    "| Tamaño de gap | Apariciones  | Probabilidad Obtenida | Probabilidad Teórica \n",
    "|--|\n",
    "| 0 | 47| 0.47 |0.5|\n",
    "| 1 | 31| 0.31|0.25|\n",
    "| 2 | 10 | 0.1|0.125|\n",
    "| 3 | 5| 0.05|0.0625|\n",
    "| 4 | 2| 0.02|0.0312|\n",
    "| 5 | 2| 0.02|0.0156|\n",
    "| 7 | 1| 0.01|0.0039|\n",
    "| 8 | 1| 0.01|0.0019|\n",
    "| 9 | 1| 0.01|0.0010|\n",
    "\n",
    "\n",
    "Ahora realizamos el test Chi 2 para los datos obtenidos en el gap test:\n",
    "\n",
    "\n"
   ]
  },
  {
   "cell_type": "code",
   "execution_count": 35,
   "metadata": {},
   "outputs": []
    }
   ],
   "source": [
    "d2 = 0\n",
    "tamanioFrecuencia = dict(zip(tamaniosGaps, ocurrencias)) \n",
    "pi = {0 : 0.5,\n",
    "      1 : 0.25,\n",
    "      2 : 0.125,\n",
    "      3 : 0.0625,\n",
    "      4 : 0.0312,\n",
    "      5 : 0.0156,\n",
    "      7 : 0.0039,\n",
    "      8 : 0.0019,\n",
    "      9 : 0.0010}\n",
    "n = 100\n",
    "\n",
    "for key in tamanioFrecuencia:\n",
    "    d2 += ((tamanioFrecuencia[key] - n*(pi[key]))**2)/(n*(pi[key]))\n",
    "\n",
    "print('D2 = ' + str(d2))"
   ]
  },
  {
   "cell_type": "markdown",
   "metadata": {},
   "source": [
    "Encontramos que nuestro $D^{2} = 15.403414304993253$  .\n",
    "\n",
    "Con un nivel de significación del $5\\%$, $\\alpha = 0.05$, y una cantidad de diferentes valores k, $k=9$, buscamos en la tabla $Chi^{2}$ guiándonos por  $\\alpha = 0.05$ y grados de libertad  $v = k-1 = 8 $,  tenemos  $t = 2,7$.\n",
    "\n",
    "Como $D^{2} > t$, entonces **rechazamos la hipótesis** diciendo que los datos no responden a una distribución uniforme, considerando un error del $5\\%$."
   ]
  },
  {
   "cell_type": "markdown",
   "metadata": {},
   "source": [
    "### Ejercicio 10\n",
    "Aplicar el test de Kolmogorov-Smirnov al generador de números al azar con distribución normal generado en el ejercicio 4, y analizar el resultado del mismo para un nivel de significación 0,01.\n",
    "\n",
    "Graficar la distribución acumulada real versus la distribución empírica."
   ]
  },
  {
   "cell_type": "code",
   "execution_count": 70,
   "metadata": {},
   "outputs": []
  },
  {
   "cell_type": "markdown",
   "metadata": {},
   "source": [
    "Test Estadístico Kolmogorov-Smirnov\n",
    "Dada n observaciones {x1, x2, ..., xn} (ordenadas) de una variable continua X, obtenemos una aproximación empírica a la función acumulativa:\n",
    "\n",
    "$F(X) \\approx \\widehat{F}(x) = \\frac{\\#x_{i}\\leq x}{n} $\n",
    "\n",
    "Método: medimos la distancia a la distribución real:\n",
    "\n",
    "$q = max_{x}\\mid\\widehat{F}(x) - F(x) \\mid$\n",
    "\n",
    "Debemos rechazar la hipótesis $H_{0}$ si $q > c$, el cual se\n",
    "determina a partir de un nivel de significancia:\n",
    "\n",
    "$\\alpha = P[q > c \\mid H_{0}] = 1 - \\mathrm{e}^{-2nc^{2}}$\n",
    "\n",
    "Conclusión: se acepta $H_{0}$ si:\n",
    "\n",
    "$q > \\sqrt{-\\frac{1}{2n}ln(\\frac{\\alpha}{2})}$"
   ]
  },
  {
   "cell_type": "markdown",
   "metadata": {},
   "source": [
    "Ej 3, inversa de la normal estándar\n",
    "\n",
    "Ej 5, definicion de la transf inversa\n",
    "\n",
    "Ej 6, respuestas teoricas. Para la geometrica había que usar los aleatorios uniformes del ej 1?\n",
    "\n",
    "Ej 7, patrones ok?\n",
    "\n",
    "Ej 8 , D2 muy alto. de donde sacamos npi\n",
    "\n",
    "Ej 9, preguntar si esta ok\n",
    "\n",
    "Ej 10, ...\n",
    "\n"
   ]
  },
  {
   "cell_type": "code",
   "execution_count": null,
   "metadata": {},
   "outputs": [],
   "source": []
  }
 ],
 "metadata": {
  "kernelspec": {
   "display_name": "Python 3",
   "language": "python",
   "name": "python3"
  },
  "language_info": {
   "codemirror_mode": {
    "name": "ipython",
    "version": 3
   },
   "file_extension": ".py",
   "mimetype": "text/x-python",
   "name": "python",
   "nbconvert_exporter": "python",
   "pygments_lexer": "ipython3",
   "version": "3.7.0"
  }
 },
 "nbformat": 4,
 "nbformat_minor": 2
}
